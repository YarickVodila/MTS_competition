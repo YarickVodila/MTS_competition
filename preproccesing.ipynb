{
 "cells": [
  {
   "cell_type": "markdown",
   "source": [
    "#### План\n",
    "1) Каждый столбец преобразовать в нужный тип данных\n",
    "2) Соеденить кажждый столбец для получения тренировочной выборки\n",
    "3) Сделать тестовую выборку\n",
    "4) Сделать колонки средний возраст и средний пол по url"
   ],
   "metadata": {
    "collapsed": false,
    "pycharm": {
     "name": "#%% md\n"
    }
   }
  },
  {
   "cell_type": "markdown",
   "source": [
    "#### Наблюдения\n",
    "1. <b>Столбец price содержит</b> 6 589 482 пропуска если убрать пропуски можно пребразовать в int32\n",
    "2. <b>Названия столбцов</b> - 'region_name', 'city_name', 'cpe_manufacturer_name', 'cpe_model_name',\n",
    "       'url_host', 'cpe_type_cd', 'cpe_model_os_type', 'price', 'date',\n",
    "       'part_of_day', 'request_cnt', 'user_id'\n",
    "3. <b>словарь с типами данных</b>: 'region_name': 'category', 'city_name': 'category', 'cpe_manufacturer_name': 'category', 'cpe_model_name': 'category', 'url_host': 'object', 'cpe_type_cd':'category', 'cpe_model_os_type': 'category', 'price': 'float64', 'date': 'object', 'part_of_day': 'category', 'request_cnt': 'int8', 'user_id': 'int32', 'is_male': 'float64', 'age':'int8', 'group':'float64'"
   ],
   "metadata": {
    "collapsed": false,
    "pycharm": {
     "name": "#%% md\n"
    }
   }
  },
  {
   "cell_type": "code",
   "execution_count": 1,
   "metadata": {
    "collapsed": true,
    "pycharm": {
     "name": "#%%\n"
    }
   },
   "outputs": [],
   "source": [
    "import numpy as np\n",
    "import pandas as pd\n",
    "#import matplotlib.pyplot as plt\n",
    "import dask.dataframe as dd\n",
    "#import pyarrow.parquet as pq\n",
    "from IPython.display import clear_output\n",
    "import time\n",
    "import bisect"
   ]
  },
  {
   "cell_type": "code",
   "execution_count": 1,
   "outputs": [],
   "source": [],
   "metadata": {
    "collapsed": false,
    "pycharm": {
     "name": "#%%\n"
    }
   }
  },
  {
   "cell_type": "code",
   "execution_count": 4,
   "outputs": [
    {
     "name": "stdout",
     "output_type": "stream",
     "text": [
      "<class 'pandas.core.frame.DataFrame'>\n",
      "RangeIndex: 111734107 entries, 0 to 111734106\n",
      "Data columns (total 12 columns):\n",
      " #   Column                 Non-Null Count      Dtype  \n",
      "---  ------                 --------------      -----  \n",
      " 0   region_name            111734107 non-null  object \n",
      " 1   city_name              111734107 non-null  object \n",
      " 2   cpe_manufacturer_name  111734107 non-null  object \n",
      " 3   cpe_model_name         111734107 non-null  object \n",
      " 4   url_host               111734107 non-null  object \n",
      " 5   cpe_type_cd            111734107 non-null  object \n",
      " 6   cpe_model_os_type      111734107 non-null  object \n",
      " 7   price                  109416393 non-null  float64\n",
      " 8   date                   111734107 non-null  object \n",
      " 9   part_of_day            111734107 non-null  object \n",
      " 10  request_cnt            111734107 non-null  int64  \n",
      " 11  user_id                111734107 non-null  int64  \n",
      "dtypes: float64(1), int64(2), object(9)\n",
      "memory usage: 10.0+ GB\n",
      "None\n",
      "144724\n",
      "          region_name  city_name cpe_manufacturer_name cpe_model_name  \\\n",
      "0  Краснодарский край  Краснодар                 Apple       iPhone 7   \n",
      "1  Краснодарский край  Краснодар                 Apple       iPhone 7   \n",
      "2  Краснодарский край  Краснодар                 Apple       iPhone 7   \n",
      "3  Краснодарский край  Краснодар                 Apple       iPhone 7   \n",
      "4  Краснодарский край  Краснодар                 Apple       iPhone 7   \n",
      "\n",
      "                      url_host cpe_type_cd cpe_model_os_type    price  \\\n",
      "0                ad.adriver.ru  smartphone               iOS  20368.0   \n",
      "1                    apple.com  smartphone               iOS  20368.0   \n",
      "2       avatars.mds.yandex.net  smartphone               iOS  20368.0   \n",
      "3  googleads.g.doubleclick.net  smartphone               iOS  20368.0   \n",
      "4  googleads.g.doubleclick.net  smartphone               iOS  20368.0   \n",
      "\n",
      "         date part_of_day  request_cnt  user_id  \n",
      "0  2022-06-15     morning            1    45098  \n",
      "1  2022-06-19     morning            1    45098  \n",
      "2  2022-06-12         day            1    45098  \n",
      "3  2022-05-16         day            1    45098  \n",
      "4  2022-05-30         day            1    45098  \n",
      "CPU times: total: 5min 13s\n",
      "Wall time: 11min 41s\n"
     ]
    }
   ],
   "source": [
    "%%time\n",
    "features_path = '.\\\\competition_data_final_pqt'\n",
    "name_column = 'user_id'\n",
    "data_submit = dd.read_parquet('submit_2.pqt').compute()\n",
    "\n",
    "data = None\n",
    "for i in range(10):\n",
    "    data_features_file = dd.read_parquet(features_path + f'\\\\part-0000{i}-aba60f69-2b63-4cc1-95ca-542598094698-c000.snappy.parquet')\n",
    "\n",
    "    if i == 0:\n",
    "        data = data_features_file.merge(data_submit[['user_id']], how='inner', on='user_id').compute()\n",
    "    else:\n",
    "        data = pd.concat([data, data_features_file.merge(data_submit[['user_id']], how='inner', on='user_id').compute()], ignore_index=True)\n",
    "\n",
    "    del data_features_file\n",
    "\n",
    "data.to_parquet('Dataset\\\\train test\\\\test_data_pqt.parquet', index=False)\n",
    "\n",
    "print(data.info(verbose=True, show_counts=True))\n",
    "print(len(data['user_id'].unique()))\n",
    "print(data.head(5))"
   ],
   "metadata": {
    "collapsed": false,
    "pycharm": {
     "name": "#%%\n"
    }
   }
  },
  {
   "cell_type": "code",
   "execution_count": 3,
   "outputs": [
    {
     "name": "stdout",
     "output_type": "stream",
     "text": [
      "144724\n"
     ]
    }
   ],
   "source": [
    "print(len(data_submit['user_id'].unique()))"
   ],
   "metadata": {
    "collapsed": false,
    "pycharm": {
     "name": "#%%\n"
    }
   }
  },
  {
   "cell_type": "code",
   "execution_count": 13,
   "outputs": [
    {
     "name": "stdout",
     "output_type": "stream",
     "text": [
      "1231.76371383667\n",
      "CPU times: total: 3.81 s\n",
      "Wall time: 3.84 s\n"
     ]
    }
   ],
   "source": [
    "%%time\n",
    "data_all = data_all.astype(\"int32\")\n",
    "print(data_all.memory_usage()/1024/1024)\n",
    "\n",
    "data_all = pd.DataFrame(data = data_all.values, columns=[f'{name_column}'])\n",
    "data_all.to_parquet('.\\\\Dataset' + f'\\\\{name_column}.parquet', index=False)\n",
    "del data_all"
   ],
   "metadata": {
    "collapsed": false,
    "pycharm": {
     "name": "#%%\n"
    }
   }
  },
  {
   "cell_type": "code",
   "execution_count": 20,
   "outputs": [
    {
     "name": "stdout",
     "output_type": "stream",
     "text": [
      "<class 'pandas.core.frame.DataFrame'>\n",
      "RangeIndex: 322899435 entries, 0 to 322899434\n",
      "Data columns (total 12 columns):\n",
      " #   Column                 Dtype   \n",
      "---  ------                 -----   \n",
      " 0   region_name            category\n",
      " 1   city_name              category\n",
      " 2   cpe_manufacturer_name  category\n",
      " 3   cpe_model_name         category\n",
      " 4   url_host               object  \n",
      " 5   cpe_type_cd            category\n",
      " 6   cpe_model_os_type      category\n",
      " 7   price                  float64 \n",
      " 8   date                   object  \n",
      " 9   part_of_day            category\n",
      " 10  request_cnt            int8    \n",
      " 11  user_id                int32   \n",
      "dtypes: category(7), float64(1), int32(1), int8(1), object(2)\n",
      "memory usage: 11.4+ GB\n"
     ]
    }
   ],
   "source": [
    "data_all = pd.DataFrame()\n",
    "\n",
    "for column in ['region_name', 'city_name', 'cpe_manufacturer_name', 'cpe_model_name',\n",
    "               'url_host', 'cpe_type_cd', 'cpe_model_os_type', 'price', 'date',\n",
    "               'part_of_day', 'request_cnt', 'user_id']:\n",
    "    data_all[column] = dd.read_parquet('.\\\\Dataset' + f'\\\\{column}.parquet').compute()[column]\n",
    "\n",
    "data_all.info()\n"
   ],
   "metadata": {
    "collapsed": false,
    "pycharm": {
     "name": "#%%\n"
    }
   }
  },
  {
   "cell_type": "code",
   "execution_count": 21,
   "outputs": [],
   "source": [
    "data_all.to_parquet('.\\\\Dataset' + f'\\\\full_data.parquet', index=False)"
   ],
   "metadata": {
    "collapsed": false,
    "pycharm": {
     "name": "#%%\n"
    }
   }
  },
  {
   "cell_type": "code",
   "execution_count": 24,
   "outputs": [],
   "source": [
    "#data_target_file = dd.read_parquet('public_train.pqt').compute()"
   ],
   "metadata": {
    "collapsed": false,
    "pycharm": {
     "name": "#%%\n"
    }
   }
  },
  {
   "cell_type": "code",
   "execution_count": 2,
   "outputs": [
    {
     "name": "stdout",
     "output_type": "stream",
     "text": [
      "CPU times: total: 24min 7s\n",
      "Wall time: 27min 6s\n"
     ]
    }
   ],
   "source": [
    "%%time\n",
    "data_all = dd.read_parquet('.\\\\Dataset' + f'\\\\full_data.parquet').compute()\n",
    "data_all.to_csv('.\\\\Dataset' + f'\\\\full_data.csv', chunksize=100000)\n",
    "del data_all"
   ],
   "metadata": {
    "collapsed": false,
    "pycharm": {
     "name": "#%%\n"
    }
   }
  },
  {
   "cell_type": "markdown",
   "source": [
    "### Создаём тренировочный датасет с колонками пол возраст и группа возраста"
   ],
   "metadata": {
    "collapsed": false,
    "pycharm": {
     "name": "#%% md\n"
    }
   }
  },
  {
   "cell_type": "code",
   "execution_count": 14,
   "outputs": [
    {
     "name": "stdout",
     "output_type": "stream",
     "text": [
      "CPU times: total: 28min 48s\n",
      "Wall time: 29min 4s\n"
     ]
    }
   ],
   "source": [
    "%%time\n",
    "''' Создаём тренировочный датасет с колонками пол возраст и группа возраста '''\n",
    "#Не забываем удалять файл если он уже есть\n",
    "header = True\n",
    "\n",
    "data_target_file = dd.read_parquet('public_train.pqt').compute()\n",
    "\n",
    "for data_chink in pd.read_csv('.\\\\Dataset' + f'\\\\full_data.csv', chunksize=100000):\n",
    "    #print(data_chink.drop(['Unnamed: 0'], axis = 1))\n",
    "    data_chink = data_chink.drop(['Unnamed: 0'], axis = 1)\n",
    "\n",
    "    data_chink = data_chink.merge(data_target_file[['age', 'is_male','user_id']], on = 'user_id', how = 'left')#соединяем столбцы с полом и возрастом\n",
    "    data_chink = data_chink[data_chink['age'].notna()] #Берём без пропусков\n",
    "    data_chink[\"group\"] = np.nan\n",
    "\n",
    "    data_chink.loc[data_chink['age']<18, ['group']] = 0\n",
    "    data_chink.loc[(18<=data_chink['age']) & (data_chink['age']<=24), ['group']] = 1\n",
    "    data_chink.loc[(25<=data_chink['age']) & (data_chink['age']<=34), ['group']] = 2\n",
    "    data_chink.loc[(35<=data_chink['age']) & (data_chink['age']<=44), ['group']] = 3\n",
    "    data_chink.loc[(45<=data_chink['age']) & (data_chink['age']<=54), ['group']] = 4\n",
    "    data_chink.loc[(55<=data_chink['age']) & (data_chink['age']<=64), ['group']] = 5\n",
    "    data_chink.loc[65<=data_chink['age'], ['group']] = 6\n",
    "\n",
    "    data_chink['group'] = data_chink['group'].astype('int8')\n",
    "    data_chink['age'] = data_chink['age'].astype('int8')\n",
    "\n",
    "    data_chink.to_csv('.\\\\Dataset\\\\train test' + f'\\\\train_data.csv', header=header, mode='a', index=False)\n",
    "\n",
    "    header = False\n",
    "\n",
    "del data_target_file\n",
    "#data_all = data_all.merge(data_target_file[['age', 'is_male','user_id']], on = 'user_id', how = 'left')\n",
    "#data_all = data_all[data_all['age'].notna()]\n",
    "#data_all.info()"
   ],
   "metadata": {
    "collapsed": false,
    "pycharm": {
     "name": "#%%\n"
    }
   }
  },
  {
   "cell_type": "code",
   "execution_count": 2,
   "outputs": [],
   "source": [
    "%%time\n",
    "'''\n",
    "for data_chink in pd.read_csv('.\\\\Dataset\\\\train test\\\\train_data.csv', chunksize=100000):\n",
    "    print(data_chink[data_chink['is_male'].isna()])\n",
    "    data_chink.info()\n",
    "    break\n",
    "'''\n",
    "#читаем с правильным типом\n",
    "type_col = {'region_name': 'category', 'city_name': 'category', 'cpe_manufacturer_name': 'category', 'cpe_model_name': 'category',\n",
    "            'url_host': 'object', 'cpe_type_cd':'category', 'cpe_model_os_type': 'category', 'price': 'float64', 'date': 'object',\n",
    "            'part_of_day': 'category', 'request_cnt': 'int8', 'user_id': 'int32', 'is_male': 'float64', 'age':'int8', 'group':'float64'}\n",
    "\n",
    "data_all = dd.read_csv('.\\\\Dataset\\\\train test\\\\train_data.csv',  dtype=type_col).compute()\n",
    "\n",
    "#usecols = ['city_name', 'cpe_manufacturer_name', 'cpe_model_name','url_host', 'cpe_type_cd', 'price','part_of_day', 'request_cnt', 'is_male'],"
   ],
   "metadata": {
    "collapsed": false,
    "pycharm": {
     "name": "#%%\n"
    }
   }
  },
  {
   "cell_type": "code",
   "execution_count": 3,
   "outputs": [
    {
     "name": "stdout",
     "output_type": "stream",
     "text": [
      "<class 'pandas.core.frame.DataFrame'>\n",
      "Int64Index: 210730009 entries, 0 to 436949\n",
      "Data columns (total 15 columns):\n",
      " #   Column                 Non-Null Count      Dtype   \n",
      "---  ------                 --------------      -----   \n",
      " 0   region_name            210730009 non-null  category\n",
      " 1   city_name              210730009 non-null  category\n",
      " 2   cpe_manufacturer_name  210730009 non-null  category\n",
      " 3   cpe_model_name         210730009 non-null  category\n",
      " 4   url_host               210560584 non-null  object  \n",
      " 5   cpe_type_cd            210730009 non-null  category\n",
      " 6   cpe_model_os_type      210730009 non-null  category\n",
      " 7   price                  206464205 non-null  float64 \n",
      " 8   date                   210730009 non-null  object  \n",
      " 9   part_of_day            210730009 non-null  category\n",
      " 10  request_cnt            210730009 non-null  int8    \n",
      " 11  user_id                210730009 non-null  int32   \n",
      " 12  age                    210730009 non-null  int8    \n",
      " 13  is_male                206839343 non-null  float64 \n",
      " 14  group                  210730009 non-null  float64 \n",
      "dtypes: category(7), float64(3), int32(1), int8(2), object(2)\n",
      "memory usage: 12.4+ GB\n"
     ]
    }
   ],
   "source": [
    "data_all.info(show_counts=True)\n",
    "#del data_all"
   ],
   "metadata": {
    "collapsed": false,
    "pycharm": {
     "name": "#%%\n"
    }
   }
  },
  {
   "cell_type": "code",
   "execution_count": 4,
   "outputs": [],
   "source": [
    "data_all.to_parquet('.\\\\Dataset\\\\train test\\\\train_data_pqt.parquet', index=False)"
   ],
   "metadata": {
    "collapsed": false,
    "pycharm": {
     "name": "#%%\n"
    }
   }
  },
  {
   "cell_type": "code",
   "execution_count": null,
   "outputs": [],
   "source": [
    "# посмотреть сколько в среднем срок у одного пользователя"
   ],
   "metadata": {
    "collapsed": false,
    "pycharm": {
     "name": "#%%\n"
    }
   }
  },
  {
   "cell_type": "code",
   "execution_count": 5,
   "outputs": [],
   "source": [
    "del data_all"
   ],
   "metadata": {
    "collapsed": false,
    "pycharm": {
     "name": "#%%\n"
    }
   }
  },
  {
   "cell_type": "code",
   "execution_count": null,
   "outputs": [],
   "source": [],
   "metadata": {
    "collapsed": false,
    "pycharm": {
     "name": "#%%\n"
    }
   }
  },
  {
   "cell_type": "markdown",
   "source": [
    "### Тестовая выборка для отправки"
   ],
   "metadata": {
    "collapsed": false,
    "pycharm": {
     "name": "#%% md\n"
    }
   }
  },
  {
   "cell_type": "code",
   "execution_count": 13,
   "outputs": [
    {
     "name": "stdout",
     "output_type": "stream",
     "text": [
      "CPU times: total: 17min 58s\n",
      "Wall time: 18min 3s\n"
     ]
    }
   ],
   "source": [
    "%%time\n",
    "#Не забываем удалять файл если он уже есть\n",
    "header = True\n",
    "\n",
    "data_target_file = dd.read_parquet('submit_2.pqt').compute()\n",
    "\n",
    "for data_chink in pd.read_csv('.\\\\Dataset' + f'\\\\full_data.csv', chunksize=100000):\n",
    "    #print(data_chink.drop(['Unnamed: 0'], axis = 1))\n",
    "    data_chink = data_chink.drop(['Unnamed: 0'], axis = 1)\n",
    "\n",
    "    data_chink = data_chink.merge(data_target_file[['user_id']], on = 'user_id', how = 'inner')#соединяем столбцы с полом и возрастом\n",
    "    #print('Итог: ', data_chink)\n",
    "    #print(data_target_file[data_target_file['user_id']==45098])\n",
    "    '''\n",
    "    if header == False:\n",
    "        break\n",
    "    '''\n",
    "    data_chink.to_csv('.\\\\Dataset\\\\train test' + f'\\\\test_data_sbm.csv', header=header, mode='a', index=False)\n",
    "    header = False\n",
    "\n",
    "\n",
    "del data_target_file"
   ],
   "metadata": {
    "collapsed": false,
    "pycharm": {
     "name": "#%%\n"
    }
   }
  },
  {
   "cell_type": "code",
   "execution_count": 14,
   "outputs": [
    {
     "name": "stdout",
     "output_type": "stream",
     "text": [
      "<class 'pandas.core.frame.DataFrame'>\n",
      "Int64Index: 111734107 entries, 0 to 462112\n",
      "Data columns (total 12 columns):\n",
      " #   Column                 Non-Null Count      Dtype   \n",
      "---  ------                 --------------      -----   \n",
      " 0   region_name            111734107 non-null  category\n",
      " 1   city_name              111734107 non-null  category\n",
      " 2   cpe_manufacturer_name  111734107 non-null  category\n",
      " 3   cpe_model_name         111734107 non-null  category\n",
      " 4   url_host               111640766 non-null  object  \n",
      " 5   cpe_type_cd            111734107 non-null  category\n",
      " 6   cpe_model_os_type      111734107 non-null  category\n",
      " 7   price                  109416393 non-null  float64 \n",
      " 8   date                   111734107 non-null  object  \n",
      " 9   part_of_day            111734107 non-null  category\n",
      " 10  request_cnt            111734107 non-null  int8    \n",
      " 11  user_id                111734107 non-null  int32   \n",
      "dtypes: category(7), float64(1), int32(1), int8(1), object(2)\n",
      "memory usage: 4.8+ GB\n",
      "None\n",
      "CPU times: total: 5min 14s\n",
      "Wall time: 3min 24s\n"
     ]
    }
   ],
   "source": [
    "%%time\n",
    "type_col = {'region_name': 'category', 'city_name': 'category', 'cpe_manufacturer_name': 'category', 'cpe_model_name': 'category',\n",
    "            'url_host': 'object', 'cpe_type_cd':'category', 'cpe_model_os_type': 'category', 'price': 'float64', 'date': 'object',\n",
    "            'part_of_day': 'category', 'request_cnt': 'int8', 'user_id': 'int32'}\n",
    "\n",
    "data_all = dd.read_csv('.\\\\Dataset\\\\train test\\\\test_data_sbm.csv',  dtype=type_col).compute()\n",
    "\n",
    "print(data_all.info(show_counts=True))\n",
    "\n",
    "data_all.to_parquet('.\\\\Dataset\\\\train test\\\\test_data_pqt.parquet', index=False)\n",
    "\n",
    "del data_all"
   ],
   "metadata": {
    "collapsed": false,
    "pycharm": {
     "name": "#%%\n"
    }
   }
  },
  {
   "cell_type": "markdown",
   "source": [
    "#### Сделаем 2 столбца с наиболее часто встречающимеся значениями"
   ],
   "metadata": {
    "collapsed": false,
    "pycharm": {
     "name": "#%% md\n"
    }
   }
  },
  {
   "cell_type": "code",
   "execution_count": 2,
   "outputs": [
    {
     "name": "stdout",
     "output_type": "stream",
     "text": [
      "<class 'pandas.core.frame.DataFrame'>\n",
      "RangeIndex: 210730009 entries, 0 to 210730008\n",
      "Data columns (total 15 columns):\n",
      " #   Column                 Dtype   \n",
      "---  ------                 -----   \n",
      " 0   region_name            category\n",
      " 1   city_name              category\n",
      " 2   cpe_manufacturer_name  category\n",
      " 3   cpe_model_name         category\n",
      " 4   url_host               object  \n",
      " 5   cpe_type_cd            category\n",
      " 6   cpe_model_os_type      category\n",
      " 7   price                  float64 \n",
      " 8   date                   object  \n",
      " 9   part_of_day            category\n",
      " 10  request_cnt            int8    \n",
      " 11  user_id                int32   \n",
      " 12  age                    int8    \n",
      " 13  is_male                float64 \n",
      " 14  group                  float64 \n",
      "dtypes: category(7), float64(3), int32(1), int8(2), object(2)\n",
      "memory usage: 10.8+ GB\n",
      "None\n",
      "CPU times: total: 4min 52s\n",
      "Wall time: 7min 19s\n"
     ]
    }
   ],
   "source": [
    "%%time\n",
    "data_all = dd.read_parquet('.\\\\Dataset\\\\train test\\\\train_data_pqt.parquet').compute()\n",
    "print(data_all.info())\n",
    "#, columns=[]\n",
    "#'region_name', 'city_name', 'cpe_manufacturer_name', 'cpe_model_name','url_host', 'price', 'user_id'\n",
    "#'cpe_type_cd', 'cpe_model_os_type', 'date','part_of_day', 'request_cnt', 'age', 'is_male', 'user_id'"
   ],
   "metadata": {
    "collapsed": false,
    "pycharm": {
     "name": "#%%\n"
    }
   }
  },
  {
   "cell_type": "code",
   "execution_count": 3,
   "outputs": [],
   "source": [
    "data_all['group'] = data_all['group'].astype('int8')\n",
    "data_all['date'] = data_all['date'].astype('datetime64[ns]')\n",
    "#data_all.info(show_counts=True)"
   ],
   "metadata": {
    "collapsed": false,
    "pycharm": {
     "name": "#%%\n"
    }
   }
  },
  {
   "cell_type": "code",
   "execution_count": 13,
   "outputs": [
    {
     "name": "stdout",
     "output_type": "stream",
     "text": [
      "Galaxy S20+                   1635\n",
      "ZenFone 3 Max ZC553KL Dual       0\n",
      "Blade A6                         0\n",
      "L6006                            0\n",
      "M6 Note                          0\n",
      "                              ... \n",
      "Galaxy S9 Dual                   0\n",
      "Honor 8C                         0\n",
      "MI 5S                            0\n",
      "P20 Pro                          0\n",
      "Power Five Max                   0\n",
      "Name: cpe_model_name, Length: 599, dtype: int64\n",
      "\n",
      "Чаще всего =  ['Galaxy S20+']\n",
      "Categories (599, object): ['Galaxy A10 Dual', 'Galaxy A21s', 'Galaxy A30 Dual', 'Galaxy A40 Dual', ..., '16', 'Xperia XA', 'Redmi Note 5A Lite', 'Power Five Max']\n"
     ]
    }
   ],
   "source": [
    "print(data_all[data_all['user_id']==data_all['user_id'][1]]['cpe_model_name'].value_counts(), end='\\n\\n')\n",
    "print('Чаще всего = ', data_all[data_all['user_id']==data_all['user_id'][1]]['cpe_model_name'].mode().values)"
   ],
   "metadata": {
    "collapsed": false,
    "pycharm": {
     "name": "#%%\n"
    }
   }
  },
  {
   "cell_type": "code",
   "execution_count": 4,
   "outputs": [
    {
     "name": "stdout",
     "output_type": "stream",
     "text": [
      "269999\n"
     ]
    }
   ],
   "source": [
    "unique_id = pd.unique(data_all['user_id'])\n",
    "#unique_url = pd.unique(data_all['url_host'])\n",
    "print(len(unique_id))"
   ],
   "metadata": {
    "collapsed": false,
    "pycharm": {
     "name": "#%%\n"
    }
   }
  },
  {
   "cell_type": "markdown",
   "source": [
    "#### Сделаем новую таблицу с уникальными id и с самыми популярными url и тд"
   ],
   "metadata": {
    "collapsed": false,
    "pycharm": {
     "name": "#%% md\n"
    }
   }
  },
  {
   "cell_type": "code",
   "execution_count": 2,
   "outputs": [],
   "source": [
    "data_target = dd.read_parquet('public_train.pqt').compute()\n",
    "#data_target = dd.read_parquet('submit_2.pqt').compute()\n",
    "\n",
    "#data_target['user_id'].unique()"
   ],
   "metadata": {
    "collapsed": false,
    "pycharm": {
     "name": "#%%\n"
    }
   }
  },
  {
   "cell_type": "code",
   "execution_count": 3,
   "outputs": [
    {
     "name": "stdout",
     "output_type": "stream",
     "text": [
      "0\n",
      "Время прошло:  169.75897240638733\n",
      "1\n",
      "Время прошло:  157.69882917404175\n",
      "2\n",
      "Время прошло:  151.01837182044983\n",
      "3\n",
      "Время прошло:  155.82675099372864\n",
      "4\n",
      "Время прошло:  146.77883386611938\n",
      "5\n",
      "Время прошло:  147.04509234428406\n",
      "6\n",
      "Время прошло:  145.18527793884277\n",
      "7\n",
      "Время прошло:  148.16920566558838\n",
      "8\n",
      "Время прошло:  146.1513488292694\n",
      "9\n",
      "Время прошло:  146.70565032958984\n",
      "CPU times: total: 24min 53s\n",
      "Wall time: 25min 15s\n"
     ]
    }
   ],
   "source": [
    "%%time\n",
    "\n",
    "def func(x):\n",
    "    try:\n",
    "        x = x.value_counts().idxmax()\n",
    "    except:\n",
    "        x = np.nan\n",
    "    return x\n",
    "\n",
    "features_path = '.\\\\competition_data_final_pqt'\n",
    "name_column = 'user_id'\n",
    "\n",
    "dict_dtype = {'region_name': 'category', 'city_name': 'category', 'cpe_manufacturer_name': 'category', 'cpe_model_name': 'category','url_host': 'object', 'cpe_type_cd':'category', 'cpe_model_os_type': 'category', 'price': 'float64', 'date': 'object','part_of_day': 'category', 'request_cnt': 'int8', 'user_id': 'int32'}\n",
    "\n",
    "\n",
    "#print(dict_dtype['region_name'])\n",
    "for i in range(10):\n",
    "    start_time = time.time()\n",
    "    print(i)\n",
    "\n",
    "    data_features = dd.read_parquet(features_path + f'\\\\part-0000{i}-aba60f69-2b63-4cc1-95ca-542598094698-c000.snappy.parquet').compute()\n",
    "    for col in data_features.columns:\n",
    "        data_features[col] = data_features[col].astype(dict_dtype[col])\n",
    "\n",
    "    data_features = data_features.merge(data_target, on = 'user_id', how = 'inner')\n",
    "    #соединяем столбцы с полом и возрастом\n",
    "\n",
    "    #print(data_features.info(show_counts=True))\n",
    "    col_name = list(data_features.columns)#\n",
    "    col_name.remove('user_id')\n",
    "\n",
    "    table = pd.pivot_table(data_features, index='user_id', values=col_name, aggfunc=func)\n",
    "    table['user_id'] = table.index\n",
    "\n",
    "    #table.to_csv(f'.\\\\Dataset\\\\csv train\\\\train_{i}.csv', header=True, index=False)\n",
    "    table.to_csv(f'.\\\\Dataset\\\\csv test\\\\test_{i}.csv', header=True, index=False)\n",
    "\n",
    "    print('Время прошло: ', time.time() - start_time)\n",
    "    del data_features"
   ],
   "metadata": {
    "collapsed": false,
    "pycharm": {
     "name": "#%%\n"
    }
   }
  },
  {
   "cell_type": "code",
   "execution_count": 4,
   "outputs": [
    {
     "name": "stdout",
     "output_type": "stream",
     "text": [
      "(14368, 12)\n",
      "(14463, 12)\n",
      "(14366, 12)\n",
      "(14572, 12)\n",
      "(14315, 12)\n",
      "(14426, 12)\n",
      "(14485, 12)\n",
      "(14616, 12)\n",
      "(14623, 12)\n",
      "(14490, 12)\n"
     ]
    }
   ],
   "source": [
    "#del data_features\n",
    "\n",
    "data_all = pd.DataFrame()\n",
    "for i in range(10):\n",
    "    #df_buf = pd.read_csv(f'.\\\\Dataset\\\\csv train\\\\train_{i}.csv')\n",
    "    df_buf = pd.read_csv(f'.\\\\Dataset\\\\csv test\\\\test_{i}.csv')\n",
    "    data_all = pd.concat([data_all, df_buf], ignore_index=True)\n",
    "    print(df_buf.shape)\n",
    "\n",
    "data_all.to_csv(f'.\\\\Dataset\\\\train test\\\\test_data_unique.csv', header=True, index=False)"
   ],
   "metadata": {
    "collapsed": false,
    "pycharm": {
     "name": "#%%\n"
    }
   }
  },
  {
   "cell_type": "code",
   "execution_count": 3,
   "outputs": [
    {
     "name": "stdout",
     "output_type": "stream",
     "text": [
      "<class 'pandas.core.frame.DataFrame'>\n",
      "RangeIndex: 270000 entries, 0 to 269999\n",
      "Data columns (total 14 columns):\n",
      " #   Column                 Non-Null Count   Dtype  \n",
      "---  ------                 --------------   -----  \n",
      " 0   age                    269999 non-null  float64\n",
      " 1   city_name              270000 non-null  object \n",
      " 2   cpe_manufacturer_name  270000 non-null  object \n",
      " 3   cpe_model_name         270000 non-null  object \n",
      " 4   cpe_model_os_type      270000 non-null  object \n",
      " 5   cpe_type_cd            270000 non-null  object \n",
      " 6   date                   270000 non-null  object \n",
      " 7   is_male                264326 non-null  float64\n",
      " 8   part_of_day            270000 non-null  object \n",
      " 9   price                  263078 non-null  float64\n",
      " 10  region_name            270000 non-null  object \n",
      " 11  request_cnt            270000 non-null  int64  \n",
      " 12  url_host               269923 non-null  object \n",
      " 13  user_id                270000 non-null  int64  \n",
      "dtypes: float64(3), int64(2), object(9)\n",
      "memory usage: 28.8+ MB\n"
     ]
    }
   ],
   "source": [
    "data_all.info()"
   ],
   "metadata": {
    "collapsed": false,
    "pycharm": {
     "name": "#%%\n"
    }
   }
  },
  {
   "cell_type": "code",
   "execution_count": null,
   "outputs": [],
   "source": [],
   "metadata": {
    "collapsed": false,
    "pycharm": {
     "name": "#%%\n"
    }
   }
  },
  {
   "cell_type": "markdown",
   "source": [
    "### Метрика маленькая, поэтому мы делаем таблицу с веротностями сначала для пола по категориальным столбцам, потом для возраста"
   ],
   "metadata": {
    "collapsed": false,
    "pycharm": {
     "name": "#%% md\n"
    }
   }
  },
  {
   "cell_type": "code",
   "execution_count": null,
   "outputs": [],
   "source": [
    "b = None\n",
    "def test():\n",
    "    print(b)\n",
    "\n",
    "for i in range(3):\n",
    "    b = i\n",
    "    test()"
   ],
   "metadata": {
    "collapsed": false,
    "pycharm": {
     "name": "#%%\n"
    }
   }
  },
  {
   "cell_type": "code",
   "execution_count": 2,
   "outputs": [
    {
     "name": "stdout",
     "output_type": "stream",
     "text": [
      "<class 'pandas.core.frame.DataFrame'>\n",
      "RangeIndex: 210730009 entries, 0 to 210730008\n",
      "Data columns (total 3 columns):\n",
      " #   Column             Non-Null Count      Dtype   \n",
      "---  ------             --------------      -----   \n",
      " 0   cpe_model_os_type  210730009 non-null  category\n",
      " 1   user_id            210730009 non-null  int32   \n",
      " 2   is_male            206839343 non-null  float64 \n",
      "dtypes: category(1), float64(1), int32(1)\n",
      "memory usage: 2.6 GB\n",
      "None\n",
      "\n",
      "\n",
      "Времени прошло:  656.5586478710175 \n",
      "\n",
      "\n",
      "<class 'pandas.core.frame.DataFrame'>\n",
      "RangeIndex: 210730009 entries, 0 to 210730008\n",
      "Data columns (total 3 columns):\n",
      " #   Column       Non-Null Count      Dtype   \n",
      "---  ------       --------------      -----   \n",
      " 0   region_name  210730009 non-null  category\n",
      " 1   user_id      210730009 non-null  int32   \n",
      " 2   is_male      206839343 non-null  float64 \n",
      "dtypes: category(1), float64(1), int32(1)\n",
      "memory usage: 2.6 GB\n",
      "None\n",
      "\n",
      "\n",
      "Времени прошло:  647.1826252937317 \n",
      "\n",
      "\n",
      "CPU times: total: 21min 33s\n",
      "Wall time: 21min 43s\n"
     ]
    }
   ],
   "source": [
    "%%time\n",
    "\n",
    "col_features = ''\n",
    "\n",
    "def func(column): #Исправить с названием колонки\n",
    "    try:\n",
    "        row = (table_features[table_features[col_features].isin(column.unique())]['sum']['is_male'] / table_features[table_features[col_features].isin(column.unique())]['count']['is_male']).mean()\n",
    "        #print(row)\n",
    "    except:\n",
    "        row = np.nan\n",
    "    return row\n",
    "#'city_name', 'cpe_manufacturer_name', 'cpe_model_name', 'cpe_type_cd', 'part_of_day', 'url_host',\n",
    "column_name = [ 'cpe_model_os_type', 'region_name'] #, 'region_name' уже сделал\n",
    "\n",
    "for col in column_name:\n",
    "    time_start = time.time()\n",
    "\n",
    "    data_all = dd.read_parquet('.\\\\Dataset\\\\train test\\\\train_data_pqt.parquet', columns=[col,'user_id', 'is_male']).compute()\n",
    "    print(data_all.info(show_counts=True))\n",
    "\n",
    "    col_features = col #Делаем переменную для признака\n",
    "\n",
    "    table_features = pd.pivot_table(data_all, index=col, values='is_male', aggfunc=[np.sum, 'count'])\n",
    "    table_features[col] = table_features.index\n",
    "    table_features.to_csv(f'.\\\\Dataset\\\\prob_col_csv\\\\prob_{col}.csv', header=True, index=False)\n",
    "\n",
    "    table = pd.pivot_table(data_all, index='user_id', values=col, aggfunc=func)\n",
    "    table['user_id'] = table.index\n",
    "\n",
    "    table.to_csv(f'.\\\\Dataset\\\\prob_train_csv\\\\train_{col}.csv', header=True, index=False)\n",
    "    print('\\n\\nВремени прошло: ', time.time() - time_start, '\\n\\n')\n",
    "    del data_all\n",
    "    del table_features\n",
    "    del table"
   ],
   "metadata": {
    "collapsed": false,
    "pycharm": {
     "name": "#%%\n"
    }
   }
  },
  {
   "cell_type": "code",
   "execution_count": null,
   "outputs": [],
   "source": [],
   "metadata": {
    "collapsed": false,
    "pycharm": {
     "name": "#%%\n"
    }
   }
  },
  {
   "cell_type": "code",
   "execution_count": null,
   "outputs": [],
   "source": [],
   "metadata": {
    "collapsed": false,
    "pycharm": {
     "name": "#%%\n"
    }
   }
  },
  {
   "cell_type": "code",
   "execution_count": 3,
   "outputs": [],
   "source": [
    "%%time\n",
    "table_reg_name = pd.pivot_table(data_all, index='region_name', values='is_male', aggfunc=[np.sum, 'count'])\n",
    "table_reg_name['region_name'] = table_reg_name.index"
   ],
   "metadata": {
    "collapsed": false,
    "pycharm": {
     "name": "#%%\n"
    }
   }
  },
  {
   "cell_type": "code",
   "execution_count": 4,
   "outputs": [
    {
     "name": "stdout",
     "output_type": "stream",
     "text": [
      "CPU times: total: 12min 30s\n",
      "Wall time: 12min 32s\n"
     ]
    },
    {
     "data": {
      "text/plain": "         region_name\nuser_id             \n0           0.579263\n1           0.553181\n2           0.514781\n3           0.581428\n4           0.495097\n...              ...\n415308      0.579263\n415309      0.515158\n415311      0.395121\n415312      0.535149\n415313      0.487590\n\n[269999 rows x 1 columns]",
      "text/html": "<div>\n<style scoped>\n    .dataframe tbody tr th:only-of-type {\n        vertical-align: middle;\n    }\n\n    .dataframe tbody tr th {\n        vertical-align: top;\n    }\n\n    .dataframe thead th {\n        text-align: right;\n    }\n</style>\n<table border=\"1\" class=\"dataframe\">\n  <thead>\n    <tr style=\"text-align: right;\">\n      <th></th>\n      <th>region_name</th>\n    </tr>\n    <tr>\n      <th>user_id</th>\n      <th></th>\n    </tr>\n  </thead>\n  <tbody>\n    <tr>\n      <th>0</th>\n      <td>0.579263</td>\n    </tr>\n    <tr>\n      <th>1</th>\n      <td>0.553181</td>\n    </tr>\n    <tr>\n      <th>2</th>\n      <td>0.514781</td>\n    </tr>\n    <tr>\n      <th>3</th>\n      <td>0.581428</td>\n    </tr>\n    <tr>\n      <th>4</th>\n      <td>0.495097</td>\n    </tr>\n    <tr>\n      <th>...</th>\n      <td>...</td>\n    </tr>\n    <tr>\n      <th>415308</th>\n      <td>0.579263</td>\n    </tr>\n    <tr>\n      <th>415309</th>\n      <td>0.515158</td>\n    </tr>\n    <tr>\n      <th>415311</th>\n      <td>0.395121</td>\n    </tr>\n    <tr>\n      <th>415312</th>\n      <td>0.535149</td>\n    </tr>\n    <tr>\n      <th>415313</th>\n      <td>0.487590</td>\n    </tr>\n  </tbody>\n</table>\n<p>269999 rows × 1 columns</p>\n</div>"
     },
     "execution_count": 4,
     "metadata": {},
     "output_type": "execute_result"
    }
   ],
   "source": [
    "%%time\n",
    "def func(column):\n",
    "    try:\n",
    "        row = (table_reg_name[table_reg_name['region_name'].isin(column.unique())]['sum']['is_male'] / table_reg_name[table_reg_name['region_name'].isin(column.unique())]['count']['is_male']).mean()\n",
    "        #print(row)\n",
    "    except:\n",
    "        row = np.nan\n",
    "    return row\n",
    "\n",
    "table = pd.pivot_table(data_all, index='user_id', values='region_name', aggfunc=func)\n"
   ],
   "metadata": {
    "collapsed": false,
    "pycharm": {
     "name": "#%%\n"
    }
   }
  },
  {
   "cell_type": "code",
   "execution_count": 9,
   "outputs": [],
   "source": [
    "table['user_id'] = table.index\n",
    "table.to_csv(f'.\\\\Dataset\\\\prob_train_csv\\\\train_region_name.csv', header=True, index=False)"
   ],
   "metadata": {
    "collapsed": false,
    "pycharm": {
     "name": "#%%\n"
    }
   }
  },
  {
   "cell_type": "code",
   "execution_count": null,
   "outputs": [],
   "source": [],
   "metadata": {
    "collapsed": false,
    "pycharm": {
     "name": "#%%\n"
    }
   }
  },
  {
   "cell_type": "markdown",
   "source": [
    "##### Пробуем другой метод для группировки"
   ],
   "metadata": {
    "collapsed": false,
    "pycharm": {
     "name": "#%% md\n"
    }
   }
  },
  {
   "cell_type": "code",
   "execution_count": 2,
   "outputs": [
    {
     "name": "stdout",
     "output_type": "stream",
     "text": [
      "<class 'pandas.core.frame.DataFrame'>\n",
      "Int64Index: 100001 entries, 0 to 100000\n",
      "Data columns (total 14 columns):\n",
      " #   Column                 Non-Null Count   Dtype   \n",
      "---  ------                 --------------   -----   \n",
      " 0   region_name            100001 non-null  category\n",
      " 1   city_name              100001 non-null  category\n",
      " 2   cpe_manufacturer_name  100001 non-null  category\n",
      " 3   cpe_model_name         100001 non-null  category\n",
      " 4   url_host               100001 non-null  object  \n",
      " 5   cpe_type_cd            100001 non-null  category\n",
      " 6   cpe_model_os_type      100001 non-null  category\n",
      " 7   price                  99629 non-null   float64 \n",
      " 8   date                   100001 non-null  object  \n",
      " 9   part_of_day            100001 non-null  category\n",
      " 10  request_cnt            100001 non-null  int8    \n",
      " 11  user_id                100001 non-null  int32   \n",
      " 12  age                    100001 non-null  float64 \n",
      " 13  is_male                100001 non-null  object  \n",
      "dtypes: category(7), float64(2), int32(1), int8(1), object(3)\n",
      "memory usage: 6.0+ MB\n",
      "CPU times: total: 45.6 s\n",
      "Wall time: 52.3 s\n"
     ]
    }
   ],
   "source": [
    "%%time\n",
    "#del data_features\n",
    "data_target = dd.read_parquet('public_train.pqt').compute()\n",
    "dict_dtype = {'region_name': 'category', 'city_name': 'category', 'cpe_manufacturer_name': 'category', 'cpe_model_name': 'category','url_host': 'object', 'cpe_type_cd':'category', 'cpe_model_os_type': 'category', 'price': 'float64', 'date': 'object','part_of_day': 'category', 'request_cnt': 'int8', 'user_id': 'int32'}\n",
    "\n",
    "data_features = dd.read_parquet('.\\\\competition_data_final_pqt\\\\part-00000-aba60f69-2b63-4cc1-95ca-542598094698-c000.snappy.parquet').compute()\n",
    "\n",
    "for col in data_features.columns:\n",
    "    data_features[col] = data_features[col].astype(dict_dtype[col])\n",
    "\n",
    "data_features = data_features.merge(data_target, on = 'user_id', how = 'inner')#соединяем столбцы с полом и возрастом\n",
    "\n",
    "\n",
    "data_features = data_features.loc[:100000]\n",
    "data_features.info()"
   ],
   "metadata": {
    "collapsed": false,
    "pycharm": {
     "name": "#%%\n"
    }
   }
  },
  {
   "cell_type": "code",
   "execution_count": 3,
   "outputs": [
    {
     "name": "stdout",
     "output_type": "stream",
     "text": [
      "1    50874\n",
      "0    45934\n",
      "Name: is_male, dtype: int64\n"
     ]
    }
   ],
   "source": [
    "data_features['is_male'] = data_features['is_male'].replace(to_replace=['NA'], value=[np.nan])\n",
    "print(data_features['is_male'].value_counts())\n",
    "data_features = data_features.dropna(subset=['is_male'])\n",
    "data_features['is_male'] = data_features['is_male'].astype('int16')"
   ],
   "metadata": {
    "collapsed": false,
    "pycharm": {
     "name": "#%%\n"
    }
   }
  },
  {
   "cell_type": "markdown",
   "source": [
    "### Эта залупа работает"
   ],
   "metadata": {
    "collapsed": false,
    "pycharm": {
     "name": "#%% md\n"
    }
   }
  },
  {
   "cell_type": "code",
   "execution_count": 4,
   "outputs": [
    {
     "name": "stdout",
     "output_type": "stream",
     "text": [
      "['region_name', 'city_name', 'cpe_manufacturer_name', 'cpe_model_name', 'url_host', 'cpe_type_cd', 'cpe_model_os_type']\n",
      "                          sum   count            region_name\n",
      "                      is_male is_male                       \n",
      "region_name                                                 \n",
      "Алтайский край              4     420         Алтайский край\n",
      "Амурская область           79      79       Амурская область\n",
      "Архангельская область       0    1597  Архангельская область\n",
      "Астраханская область        0       0   Астраханская область\n",
      "Белгородская область        0       0   Белгородская область \n",
      "\n",
      "\n",
      "[('sum', 'is_male'), ('count', 'is_male'), ('region_name', '')] \n",
      "\n",
      "\n",
      "region_name\n",
      "Алтайский край             4\n",
      "Амурская область          79\n",
      "Архангельская область      0\n",
      "Астраханская область       0\n",
      "Белгородская область       0\n",
      "                        ... \n",
      "Чеченская Республика       0\n",
      "Чувашская Республика       0\n",
      "Чукотский АО               0\n",
      "Ямало-Ненецкий АО          0\n",
      "Ярославская область      125\n",
      "Name: is_male, Length: 80, dtype: int16 \n",
      "\n",
      "\n",
      "CPU times: total: 31.2 ms\n",
      "Wall time: 31 ms\n"
     ]
    }
   ],
   "source": [
    "%%time\n",
    "col_name = list(data_features.columns[:7])#\n",
    "#col_name.remove('user_id')\n",
    "print(col_name)\n",
    "\n",
    "def func(column):\n",
    "    try:\n",
    "        row = column.value_counts().idxmax()\n",
    "    except:\n",
    "        row = np.nan\n",
    "    return row\n",
    "\n",
    "\n",
    "table_reg_name = pd.pivot_table(data_features, index=col_name[0], values='is_male', aggfunc=[np.sum, 'count'])\n",
    "table_reg_name[col_name[0]] = table_reg_name.index\n",
    "print(table_reg_name.head(5),'\\n\\n')\n",
    "\n",
    "#lambda x: x.value_counts().idxmax()\n",
    "#lambda x: x.mode().iat[0]\n",
    "\n",
    "print(list(table_reg_name.columns),'\\n\\n')\n",
    "\n",
    "print(table_reg_name['sum']['is_male'],'\\n\\n')"
   ],
   "metadata": {
    "collapsed": false,
    "pycharm": {
     "name": "#%%\n"
    }
   }
  },
  {
   "cell_type": "code",
   "execution_count": 53,
   "outputs": [
    {
     "data": {
      "text/plain": "         region_name\nuser_id             \n5409        0.953403\n7004        0.953603\n7470        0.527223\n9410        0.175389\n13248       0.367916\n...              ...\n389612      0.000000\n394147      0.816644\n401042      0.503893\n401442      0.641357\n412201      0.389878\n\n[96 rows x 1 columns]",
      "text/html": "<div>\n<style scoped>\n    .dataframe tbody tr th:only-of-type {\n        vertical-align: middle;\n    }\n\n    .dataframe tbody tr th {\n        vertical-align: top;\n    }\n\n    .dataframe thead th {\n        text-align: right;\n    }\n</style>\n<table border=\"1\" class=\"dataframe\">\n  <thead>\n    <tr style=\"text-align: right;\">\n      <th></th>\n      <th>region_name</th>\n    </tr>\n    <tr>\n      <th>user_id</th>\n      <th></th>\n    </tr>\n  </thead>\n  <tbody>\n    <tr>\n      <th>5409</th>\n      <td>0.953403</td>\n    </tr>\n    <tr>\n      <th>7004</th>\n      <td>0.953603</td>\n    </tr>\n    <tr>\n      <th>7470</th>\n      <td>0.527223</td>\n    </tr>\n    <tr>\n      <th>9410</th>\n      <td>0.175389</td>\n    </tr>\n    <tr>\n      <th>13248</th>\n      <td>0.367916</td>\n    </tr>\n    <tr>\n      <th>...</th>\n      <td>...</td>\n    </tr>\n    <tr>\n      <th>389612</th>\n      <td>0.000000</td>\n    </tr>\n    <tr>\n      <th>394147</th>\n      <td>0.816644</td>\n    </tr>\n    <tr>\n      <th>401042</th>\n      <td>0.503893</td>\n    </tr>\n    <tr>\n      <th>401442</th>\n      <td>0.641357</td>\n    </tr>\n    <tr>\n      <th>412201</th>\n      <td>0.389878</td>\n    </tr>\n  </tbody>\n</table>\n<p>96 rows × 1 columns</p>\n</div>"
     },
     "execution_count": 53,
     "metadata": {},
     "output_type": "execute_result"
    }
   ],
   "source": [
    "def func(column):\n",
    "    try:\n",
    "        row = (table_reg_name[table_reg_name[col_name[0]].isin(column.unique())]['sum']['is_male'] / table_reg_name[table_reg_name[col_name[0]].isin(column.unique())]['count']['is_male']).mean()\n",
    "        #print(row)\n",
    "    except:\n",
    "        row = np.nan\n",
    "    return row\n",
    "\n",
    "table_id = pd.pivot_table(data_features, index='user_id', values=col_name[0], aggfunc=func)\n",
    "table_id"
   ],
   "metadata": {
    "collapsed": false,
    "pycharm": {
     "name": "#%%\n"
    }
   }
  },
  {
   "cell_type": "code",
   "execution_count": 37,
   "outputs": [
    {
     "name": "stdout",
     "output_type": "stream",
     "text": [
      "Int64Index([4, 16, 18, 26, 29, 61, 63, 64, 92, 125], dtype='int64', name='user_id')\n"
     ]
    },
    {
     "data": {
      "text/plain": "          age        city_name cpe_manufacturer_name       cpe_model_name  \\\nuser_id                                                                     \n4        28.0            Анапа                Huawei               Nova 3   \n16       63.0     Магнитогорск               Samsung      Galaxy A10 Dual   \n18       50.0     Горячий Ключ               Samsung      Galaxy A51 Dual   \n26       59.0  Санкт-Петербург               Samsung  Galaxy A7 2017 Dual   \n29       30.0          Люберцы                 Apple        iPhone 8 Plus   \n61       25.0           Туапсе                 Apple            iPhone XR   \n63       29.0          Апатиты                Huawei         Honor 9 Lite   \n64       52.0         Оренбург               Samsung  Galaxy J6 Plus Dual   \n92       35.0           Ачинск               Samsung      Galaxy A51 Dual   \n\n        cpe_model_os_type cpe_type_cd        date is_male part_of_day  \\\nuser_id                                                                 \n4                 Android  smartphone  2021-07-24       0     morning   \n16                Android  smartphone  2021-07-04       0         day   \n18                Android  smartphone  2021-08-05       1         day   \n26                Android  smartphone  2021-06-19       0     evening   \n29                    iOS  smartphone  2021-07-30       0         day   \n61                    iOS  smartphone  2022-02-27       0     evening   \n63                Android  smartphone  2021-07-08       1         day   \n64                Android  smartphone  2021-06-28       0     morning   \n92                Android  smartphone  2021-06-19       0         day   \n\n           price           region_name  request_cnt  \\\nuser_id                                               \n4        12990.0    Краснодарский край            1   \n16        9583.0   Челябинская область            1   \n18       22887.0    Краснодарский край            1   \n26        4990.0       Санкт-Петербург            1   \n29       45696.0    Московская область            1   \n61       49572.0    Краснодарский край            1   \n63        3990.0    Мурманская область            1   \n64        1690.0  Оренбургская область            1   \n92       20239.0     Красноярский край            1   \n\n                            url_host  user_id  \nuser_id                                        \n4                             vk.com        4  \n16                         yandex.ru       16  \n18                         yandex.ru       18  \n26       googleads.g.doubleclick.net       26  \n29                     instagram.com       29  \n61                         apple.com       61  \n63                            vk.com       63  \n64                         yandex.ru       64  \n92                            vk.com       92  ",
      "text/html": "<div>\n<style scoped>\n    .dataframe tbody tr th:only-of-type {\n        vertical-align: middle;\n    }\n\n    .dataframe tbody tr th {\n        vertical-align: top;\n    }\n\n    .dataframe thead th {\n        text-align: right;\n    }\n</style>\n<table border=\"1\" class=\"dataframe\">\n  <thead>\n    <tr style=\"text-align: right;\">\n      <th></th>\n      <th>age</th>\n      <th>city_name</th>\n      <th>cpe_manufacturer_name</th>\n      <th>cpe_model_name</th>\n      <th>cpe_model_os_type</th>\n      <th>cpe_type_cd</th>\n      <th>date</th>\n      <th>is_male</th>\n      <th>part_of_day</th>\n      <th>price</th>\n      <th>region_name</th>\n      <th>request_cnt</th>\n      <th>url_host</th>\n      <th>user_id</th>\n    </tr>\n    <tr>\n      <th>user_id</th>\n      <th></th>\n      <th></th>\n      <th></th>\n      <th></th>\n      <th></th>\n      <th></th>\n      <th></th>\n      <th></th>\n      <th></th>\n      <th></th>\n      <th></th>\n      <th></th>\n      <th></th>\n      <th></th>\n    </tr>\n  </thead>\n  <tbody>\n    <tr>\n      <th>4</th>\n      <td>28.0</td>\n      <td>Анапа</td>\n      <td>Huawei</td>\n      <td>Nova 3</td>\n      <td>Android</td>\n      <td>smartphone</td>\n      <td>2021-07-24</td>\n      <td>0</td>\n      <td>morning</td>\n      <td>12990.0</td>\n      <td>Краснодарский край</td>\n      <td>1</td>\n      <td>vk.com</td>\n      <td>4</td>\n    </tr>\n    <tr>\n      <th>16</th>\n      <td>63.0</td>\n      <td>Магнитогорск</td>\n      <td>Samsung</td>\n      <td>Galaxy A10 Dual</td>\n      <td>Android</td>\n      <td>smartphone</td>\n      <td>2021-07-04</td>\n      <td>0</td>\n      <td>day</td>\n      <td>9583.0</td>\n      <td>Челябинская область</td>\n      <td>1</td>\n      <td>yandex.ru</td>\n      <td>16</td>\n    </tr>\n    <tr>\n      <th>18</th>\n      <td>50.0</td>\n      <td>Горячий Ключ</td>\n      <td>Samsung</td>\n      <td>Galaxy A51 Dual</td>\n      <td>Android</td>\n      <td>smartphone</td>\n      <td>2021-08-05</td>\n      <td>1</td>\n      <td>day</td>\n      <td>22887.0</td>\n      <td>Краснодарский край</td>\n      <td>1</td>\n      <td>yandex.ru</td>\n      <td>18</td>\n    </tr>\n    <tr>\n      <th>26</th>\n      <td>59.0</td>\n      <td>Санкт-Петербург</td>\n      <td>Samsung</td>\n      <td>Galaxy A7 2017 Dual</td>\n      <td>Android</td>\n      <td>smartphone</td>\n      <td>2021-06-19</td>\n      <td>0</td>\n      <td>evening</td>\n      <td>4990.0</td>\n      <td>Санкт-Петербург</td>\n      <td>1</td>\n      <td>googleads.g.doubleclick.net</td>\n      <td>26</td>\n    </tr>\n    <tr>\n      <th>29</th>\n      <td>30.0</td>\n      <td>Люберцы</td>\n      <td>Apple</td>\n      <td>iPhone 8 Plus</td>\n      <td>iOS</td>\n      <td>smartphone</td>\n      <td>2021-07-30</td>\n      <td>0</td>\n      <td>day</td>\n      <td>45696.0</td>\n      <td>Московская область</td>\n      <td>1</td>\n      <td>instagram.com</td>\n      <td>29</td>\n    </tr>\n    <tr>\n      <th>61</th>\n      <td>25.0</td>\n      <td>Туапсе</td>\n      <td>Apple</td>\n      <td>iPhone XR</td>\n      <td>iOS</td>\n      <td>smartphone</td>\n      <td>2022-02-27</td>\n      <td>0</td>\n      <td>evening</td>\n      <td>49572.0</td>\n      <td>Краснодарский край</td>\n      <td>1</td>\n      <td>apple.com</td>\n      <td>61</td>\n    </tr>\n    <tr>\n      <th>63</th>\n      <td>29.0</td>\n      <td>Апатиты</td>\n      <td>Huawei</td>\n      <td>Honor 9 Lite</td>\n      <td>Android</td>\n      <td>smartphone</td>\n      <td>2021-07-08</td>\n      <td>1</td>\n      <td>day</td>\n      <td>3990.0</td>\n      <td>Мурманская область</td>\n      <td>1</td>\n      <td>vk.com</td>\n      <td>63</td>\n    </tr>\n    <tr>\n      <th>64</th>\n      <td>52.0</td>\n      <td>Оренбург</td>\n      <td>Samsung</td>\n      <td>Galaxy J6 Plus Dual</td>\n      <td>Android</td>\n      <td>smartphone</td>\n      <td>2021-06-28</td>\n      <td>0</td>\n      <td>morning</td>\n      <td>1690.0</td>\n      <td>Оренбургская область</td>\n      <td>1</td>\n      <td>yandex.ru</td>\n      <td>64</td>\n    </tr>\n    <tr>\n      <th>92</th>\n      <td>35.0</td>\n      <td>Ачинск</td>\n      <td>Samsung</td>\n      <td>Galaxy A51 Dual</td>\n      <td>Android</td>\n      <td>smartphone</td>\n      <td>2021-06-19</td>\n      <td>0</td>\n      <td>day</td>\n      <td>20239.0</td>\n      <td>Красноярский край</td>\n      <td>1</td>\n      <td>vk.com</td>\n      <td>92</td>\n    </tr>\n  </tbody>\n</table>\n</div>"
     },
     "metadata": {},
     "output_type": "display_data"
    },
    {
     "name": "stdout",
     "output_type": "stream",
     "text": [
      "None\n"
     ]
    }
   ],
   "source": [
    "table['user_id'] = table.index\n",
    "print(table.index[:10])\n",
    "print(display(table.loc[:100,:]))\n",
    "\n"
   ],
   "metadata": {
    "collapsed": false,
    "pycharm": {
     "name": "#%%\n"
    }
   }
  },
  {
   "cell_type": "code",
   "execution_count": null,
   "outputs": [],
   "source": [
    "print(data_all[data_all['price'].isna()])\n",
    "print(data_all[data_all['user_id'] == data_all[data_all['price'].isna()]['user_id'].values[0]]['price'].mode().values[0])"
   ],
   "metadata": {
    "collapsed": false,
    "pycharm": {
     "name": "#%%\n"
    }
   }
  },
  {
   "cell_type": "code",
   "execution_count": 8,
   "outputs": [],
   "source": [
    "del data_all"
   ],
   "metadata": {
    "collapsed": false,
    "pycharm": {
     "name": "#%%\n"
    }
   }
  },
  {
   "cell_type": "code",
   "execution_count": null,
   "outputs": [],
   "source": [],
   "metadata": {
    "collapsed": false,
    "pycharm": {
     "name": "#%%\n"
    }
   }
  },
  {
   "cell_type": "code",
   "execution_count": null,
   "outputs": [],
   "source": [],
   "metadata": {
    "collapsed": false,
    "pycharm": {
     "name": "#%%\n"
    }
   }
  },
  {
   "cell_type": "markdown",
   "source": [
    "<p style = 'color:red; font-size:30px;'> Создаём датасет для возраста</p>"
   ],
   "metadata": {
    "collapsed": false,
    "pycharm": {
     "name": "#%% md\n"
    }
   }
  },
  {
   "cell_type": "code",
   "execution_count": 14,
   "outputs": [],
   "source": [
    "col_name = 'cpe_type_cd'"
   ],
   "metadata": {
    "collapsed": false,
    "pycharm": {
     "name": "#%%\n"
    }
   }
  },
  {
   "cell_type": "code",
   "execution_count": 15,
   "outputs": [
    {
     "name": "stdout",
     "output_type": "stream",
     "text": [
      "<class 'pandas.core.frame.DataFrame'>\n",
      "RangeIndex: 210730009 entries, 0 to 210730008\n",
      "Data columns (total 2 columns):\n",
      " #   Column       Non-Null Count      Dtype   \n",
      "---  ------       --------------      -----   \n",
      " 0   cpe_type_cd  210730009 non-null  category\n",
      " 1   age          210730009 non-null  int8    \n",
      "dtypes: category(1), int8(1)\n",
      "memory usage: 401.9 MB\n"
     ]
    }
   ],
   "source": [
    "data_train = dd.read_parquet('Dataset\\\\train test\\\\train_data_pqt.parquet', columns=[col_name, 'age']).compute()\n",
    "data_train.info(verbose=True, show_counts=True)"
   ],
   "metadata": {
    "collapsed": false,
    "pycharm": {
     "name": "#%%\n"
    }
   }
  },
  {
   "cell_type": "code",
   "execution_count": 16,
   "outputs": [],
   "source": [
    "def age_bucket(x):\n",
    "    return bisect.bisect_left([25,35,45,55,65], x)\n",
    "\n",
    "def func(row):\n",
    "    sum = 0\n",
    "    for i in range(6):\n",
    "        sum += row[i]*i\n",
    "    return sum / np.sum(row)"
   ],
   "metadata": {
    "collapsed": false,
    "pycharm": {
     "name": "#%%\n"
    }
   }
  },
  {
   "cell_type": "code",
   "execution_count": 17,
   "outputs": [
    {
     "data": {
      "text/plain": "                count                                                 \nbasket_age          0         1         2         3         4        5\ncpe_type_cd                                                           \nsmartphone   33150262  74707059  56482483  28848696  14566138  2901607\nplain             465       529      3892      9160      5706      779\ntablet            261      3810     11471      8178     10246     2078\nphablet            11       874       928      5304      6731     3341",
      "text/html": "<div>\n<style scoped>\n    .dataframe tbody tr th:only-of-type {\n        vertical-align: middle;\n    }\n\n    .dataframe tbody tr th {\n        vertical-align: top;\n    }\n\n    .dataframe thead tr th {\n        text-align: left;\n    }\n\n    .dataframe thead tr:last-of-type th {\n        text-align: right;\n    }\n</style>\n<table border=\"1\" class=\"dataframe\">\n  <thead>\n    <tr>\n      <th></th>\n      <th colspan=\"6\" halign=\"left\">count</th>\n    </tr>\n    <tr>\n      <th>basket_age</th>\n      <th>0</th>\n      <th>1</th>\n      <th>2</th>\n      <th>3</th>\n      <th>4</th>\n      <th>5</th>\n    </tr>\n    <tr>\n      <th>cpe_type_cd</th>\n      <th></th>\n      <th></th>\n      <th></th>\n      <th></th>\n      <th></th>\n      <th></th>\n    </tr>\n  </thead>\n  <tbody>\n    <tr>\n      <th>smartphone</th>\n      <td>33150262</td>\n      <td>74707059</td>\n      <td>56482483</td>\n      <td>28848696</td>\n      <td>14566138</td>\n      <td>2901607</td>\n    </tr>\n    <tr>\n      <th>plain</th>\n      <td>465</td>\n      <td>529</td>\n      <td>3892</td>\n      <td>9160</td>\n      <td>5706</td>\n      <td>779</td>\n    </tr>\n    <tr>\n      <th>tablet</th>\n      <td>261</td>\n      <td>3810</td>\n      <td>11471</td>\n      <td>8178</td>\n      <td>10246</td>\n      <td>2078</td>\n    </tr>\n    <tr>\n      <th>phablet</th>\n      <td>11</td>\n      <td>874</td>\n      <td>928</td>\n      <td>5304</td>\n      <td>6731</td>\n      <td>3341</td>\n    </tr>\n  </tbody>\n</table>\n</div>"
     },
     "metadata": {},
     "output_type": "display_data"
    },
    {
     "name": "stdout",
     "output_type": "stream",
     "text": [
      "None\n",
      "basket_age          0         1         2         3         4        5\n",
      "cpe_type_cd                                                           \n",
      "smartphone   33150262  74707059  56482483  28848696  14566138  2901607\n",
      "plain             465       529      3892      9160      5706      779\n",
      "tablet            261      3810     11471      8178     10246     2078\n",
      "phablet            11       874       928      5304      6731     3341\n",
      "basket_age          0         1         2         3         4        5  \\\n",
      "cpe_type_cd                                                              \n",
      "smartphone   33150262  74707059  56482483  28848696  14566138  2901607   \n",
      "plain             465       529      3892      9160      5706      779   \n",
      "tablet            261      3810     11471      8178     10246     2078   \n",
      "phablet            11       874       928      5304      6731     3341   \n",
      "\n",
      "basket_age   cpe_type_cd  \n",
      "cpe_type_cd               \n",
      "smartphone      1.647189  \n",
      "plain           3.044762  \n",
      "tablet          2.848186  \n",
      "phablet         3.622724  \n",
      "basket_age     bask_0    bask_1    bask_2    bask_3    bask_4   bask_5  \\\n",
      "cpe_type_cd                                                              \n",
      "smartphone   33150262  74707059  56482483  28848696  14566138  2901607   \n",
      "plain             465       529      3892      9160      5706      779   \n",
      "tablet            261      3810     11471      8178     10246     2078   \n",
      "phablet            11       874       928      5304      6731     3341   \n",
      "\n",
      "basket_age  cpe_type_cd  \n",
      "cpe_type_cd              \n",
      "smartphone   smartphone  \n",
      "plain             plain  \n",
      "tablet           tablet  \n",
      "phablet         phablet  \n",
      "CPU times: total: 58.7 s\n",
      "Wall time: 1min 16s\n"
     ]
    }
   ],
   "source": [
    "%%time\n",
    "data_train = data_train.dropna(subset=['age'])\n",
    "data_train = data_train.dropna(subset=[col_name])\n",
    "data_train[col_name] = data_train[col_name].astype('category')\n",
    "\n",
    "data_train['basket_age'] = data_train['age'].map(age_bucket)\n",
    "\n",
    "piv_table= pd.pivot_table(data_train, index=col_name, values = 'basket_age', columns='basket_age', aggfunc=['count'])\n",
    "del data_train\n",
    "print(display(piv_table))\n",
    "\n",
    "piv_table.columns = piv_table.columns.droplevel(level=0)\n",
    "print(piv_table)\n",
    "\n",
    "piv_table[col_name] = piv_table[[0,1,2,3,4,5]].apply(lambda row : func(row), axis=1)\n",
    "print(piv_table)\n",
    "\n",
    "piv_table[col_name] = piv_table.index\n",
    "piv_table = piv_table.rename(columns={0: 'bask_0', 1: 'bask_1', 2: 'bask_2', 3: 'bask_3', 4: 'bask_4', 5: 'bask_5'})\n",
    "#piv_table = piv_table.reset_index(drop=True)\n",
    "print(piv_table)\n",
    "piv_table.to_parquet(f'Dataset\\\\age_data\\\\prob_{col_name}.parquet', index=False)\n",
    "del piv_table"
   ],
   "metadata": {
    "collapsed": false,
    "pycharm": {
     "name": "#%%\n"
    }
   }
  },
  {
   "cell_type": "code",
   "execution_count": 18,
   "outputs": [
    {
     "name": "stdout",
     "output_type": "stream",
     "text": [
      "Index(['cpe_type_cd', 'user_id'], dtype='object')\n",
      "<class 'pandas.core.frame.DataFrame'>\n",
      "Int64Index: 210730009 entries, 0 to 210730008\n",
      "Data columns (total 2 columns):\n",
      " #   Column       Non-Null Count      Dtype   \n",
      "---  ------       --------------      -----   \n",
      " 0   cpe_type_cd  210730009 non-null  category\n",
      " 1   user_id      210730009 non-null  int32   \n",
      "dtypes: category(1), int32(1)\n",
      "memory usage: 2.6 GB\n",
      "<class 'pandas.core.frame.DataFrame'>\n",
      "Int64Index: 210730009 entries, 0 to 210730008\n",
      "Data columns (total 8 columns):\n",
      " #   Column       Non-Null Count      Dtype   \n",
      "---  ------       --------------      -----   \n",
      " 0   cpe_type_cd  210730009 non-null  category\n",
      " 1   user_id      210730009 non-null  int32   \n",
      " 2   bask_0       210730009 non-null  int64   \n",
      " 3   bask_1       210730009 non-null  int64   \n",
      " 4   bask_2       210730009 non-null  int64   \n",
      " 5   bask_3       210730009 non-null  int64   \n",
      " 6   bask_4       210730009 non-null  int64   \n",
      " 7   bask_5       210730009 non-null  int64   \n",
      "dtypes: category(1), int32(1), int64(6)\n",
      "memory usage: 12.0 GB\n",
      "269999\n"
     ]
    },
    {
     "data": {
      "text/plain": "          bask_0   bask_1    bask_2    bask_3    bask_4    bask_5  user_id\n0       0.157367  0.35464  0.268126  0.136947  0.069146  0.013774        0\n1       0.157367  0.35464  0.268126  0.136947  0.069146  0.013774        1\n2       0.157367  0.35464  0.268126  0.136947  0.069146  0.013774        2\n3       0.157367  0.35464  0.268126  0.136947  0.069146  0.013774        3\n4       0.157367  0.35464  0.268126  0.136947  0.069146  0.013774        4\n...          ...      ...       ...       ...       ...       ...      ...\n269994  0.157367  0.35464  0.268126  0.136947  0.069146  0.013774   415308\n269995  0.157367  0.35464  0.268126  0.136947  0.069146  0.013774   415309\n269996  0.157367  0.35464  0.268126  0.136947  0.069146  0.013774   415311\n269997  0.157367  0.35464  0.268126  0.136947  0.069146  0.013774   415312\n269998  0.157367  0.35464  0.268126  0.136947  0.069146  0.013774   415313\n\n[269999 rows x 7 columns]",
      "text/html": "<div>\n<style scoped>\n    .dataframe tbody tr th:only-of-type {\n        vertical-align: middle;\n    }\n\n    .dataframe tbody tr th {\n        vertical-align: top;\n    }\n\n    .dataframe thead th {\n        text-align: right;\n    }\n</style>\n<table border=\"1\" class=\"dataframe\">\n  <thead>\n    <tr style=\"text-align: right;\">\n      <th></th>\n      <th>bask_0</th>\n      <th>bask_1</th>\n      <th>bask_2</th>\n      <th>bask_3</th>\n      <th>bask_4</th>\n      <th>bask_5</th>\n      <th>user_id</th>\n    </tr>\n  </thead>\n  <tbody>\n    <tr>\n      <th>0</th>\n      <td>0.157367</td>\n      <td>0.35464</td>\n      <td>0.268126</td>\n      <td>0.136947</td>\n      <td>0.069146</td>\n      <td>0.013774</td>\n      <td>0</td>\n    </tr>\n    <tr>\n      <th>1</th>\n      <td>0.157367</td>\n      <td>0.35464</td>\n      <td>0.268126</td>\n      <td>0.136947</td>\n      <td>0.069146</td>\n      <td>0.013774</td>\n      <td>1</td>\n    </tr>\n    <tr>\n      <th>2</th>\n      <td>0.157367</td>\n      <td>0.35464</td>\n      <td>0.268126</td>\n      <td>0.136947</td>\n      <td>0.069146</td>\n      <td>0.013774</td>\n      <td>2</td>\n    </tr>\n    <tr>\n      <th>3</th>\n      <td>0.157367</td>\n      <td>0.35464</td>\n      <td>0.268126</td>\n      <td>0.136947</td>\n      <td>0.069146</td>\n      <td>0.013774</td>\n      <td>3</td>\n    </tr>\n    <tr>\n      <th>4</th>\n      <td>0.157367</td>\n      <td>0.35464</td>\n      <td>0.268126</td>\n      <td>0.136947</td>\n      <td>0.069146</td>\n      <td>0.013774</td>\n      <td>4</td>\n    </tr>\n    <tr>\n      <th>...</th>\n      <td>...</td>\n      <td>...</td>\n      <td>...</td>\n      <td>...</td>\n      <td>...</td>\n      <td>...</td>\n      <td>...</td>\n    </tr>\n    <tr>\n      <th>269994</th>\n      <td>0.157367</td>\n      <td>0.35464</td>\n      <td>0.268126</td>\n      <td>0.136947</td>\n      <td>0.069146</td>\n      <td>0.013774</td>\n      <td>415308</td>\n    </tr>\n    <tr>\n      <th>269995</th>\n      <td>0.157367</td>\n      <td>0.35464</td>\n      <td>0.268126</td>\n      <td>0.136947</td>\n      <td>0.069146</td>\n      <td>0.013774</td>\n      <td>415309</td>\n    </tr>\n    <tr>\n      <th>269996</th>\n      <td>0.157367</td>\n      <td>0.35464</td>\n      <td>0.268126</td>\n      <td>0.136947</td>\n      <td>0.069146</td>\n      <td>0.013774</td>\n      <td>415311</td>\n    </tr>\n    <tr>\n      <th>269997</th>\n      <td>0.157367</td>\n      <td>0.35464</td>\n      <td>0.268126</td>\n      <td>0.136947</td>\n      <td>0.069146</td>\n      <td>0.013774</td>\n      <td>415312</td>\n    </tr>\n    <tr>\n      <th>269998</th>\n      <td>0.157367</td>\n      <td>0.35464</td>\n      <td>0.268126</td>\n      <td>0.136947</td>\n      <td>0.069146</td>\n      <td>0.013774</td>\n      <td>415313</td>\n    </tr>\n  </tbody>\n</table>\n<p>269999 rows × 7 columns</p>\n</div>"
     },
     "metadata": {},
     "output_type": "display_data"
    },
    {
     "name": "stdout",
     "output_type": "stream",
     "text": [
      "None\n",
      "CPU times: total: 35.5 s\n",
      "Wall time: 2min\n"
     ]
    }
   ],
   "source": [
    "%%time\n",
    "\n",
    "path = 'Dataset\\\\train test\\\\'\n",
    "path_col_data = f'Dataset\\\\age_data\\\\prob_{col_name}.parquet'\n",
    "#mean_age_for_cpe_type.parquet\n",
    "#mean_age_for_url.parquet\n",
    "data_all = dd.read_parquet(path+'train_data_pqt.parquet', columns=[col_name, 'user_id']).compute()\n",
    "#data_all = data_all[:100000]\n",
    "\n",
    "#test_data_pqt.parquet\n",
    "#train_data_pqt.parquet\n",
    "print(data_all.columns)\n",
    "\n",
    "data_all = data_all.dropna(subset=[col_name])\n",
    "\n",
    "data_all[col_name] = data_all[col_name].astype('category')\n",
    "data_all.info(show_counts=True)\n",
    "\n",
    "data_basket = dd.read_parquet(path_col_data).compute()\n",
    "data_basket.head(5)\n",
    "\n",
    "data_all = data_all.merge(data_basket, on = col_name, how = 'inner')\n",
    "data_all.info(show_counts=True)\n",
    "print(len(data_all['user_id'].unique()))\n",
    "\n",
    "\n",
    "piv = pd.pivot_table(data_all, index='user_id', values=['bask_0','bask_1', 'bask_2', 'bask_3', 'bask_4', 'bask_5'], aggfunc=np.sum)\n",
    "del data_all\n",
    "piv['user_id'] = piv.index\n",
    "piv = piv.reset_index(drop=True)\n",
    "#print(piv)\n",
    "\n",
    "piv['sum'] = piv['bask_0'] + piv['bask_1'] + piv['bask_2'] + piv['bask_3'] + piv['bask_4'] + piv['bask_5']# + piv['bask_6']\n",
    "#print(piv)\n",
    "\n",
    "piv.iloc[:, :6] = piv.iloc[:, :6].div(piv['sum'], axis = 0)\n",
    "piv = piv.drop(columns=['sum'])\n",
    "piv.to_parquet(f'Dataset\\\\age_data\\\\basket_prob_{col_name}_train.parquet', index=False)\n",
    "print(display(piv))\n",
    "\n",
    "del piv\n"
   ],
   "metadata": {
    "collapsed": false,
    "pycharm": {
     "name": "#%%\n"
    }
   }
  },
  {
   "cell_type": "code",
   "execution_count": 19,
   "outputs": [
    {
     "name": "stdout",
     "output_type": "stream",
     "text": [
      "Index(['cpe_type_cd', 'user_id'], dtype='object')\n",
      "<class 'pandas.core.frame.DataFrame'>\n",
      "Int64Index: 111734107 entries, 0 to 111734106\n",
      "Data columns (total 2 columns):\n",
      " #   Column       Non-Null Count      Dtype   \n",
      "---  ------       --------------      -----   \n",
      " 0   cpe_type_cd  111734107 non-null  category\n",
      " 1   user_id      111734107 non-null  int64   \n",
      "dtypes: category(1), int64(1)\n",
      "memory usage: 1.8 GB\n",
      "<class 'pandas.core.frame.DataFrame'>\n",
      "Int64Index: 111734107 entries, 0 to 111734106\n",
      "Data columns (total 8 columns):\n",
      " #   Column       Non-Null Count      Dtype   \n",
      "---  ------       --------------      -----   \n",
      " 0   cpe_type_cd  111734107 non-null  category\n",
      " 1   user_id      111734107 non-null  int64   \n",
      " 2   bask_0       111734107 non-null  int64   \n",
      " 3   bask_1       111734107 non-null  int64   \n",
      " 4   bask_2       111734107 non-null  int64   \n",
      " 5   bask_3       111734107 non-null  int64   \n",
      " 6   bask_4       111734107 non-null  int64   \n",
      " 7   bask_5       111734107 non-null  int64   \n",
      "dtypes: category(1), int64(7)\n",
      "memory usage: 6.8 GB\n",
      "144724\n"
     ]
    },
    {
     "data": {
      "text/plain": "          bask_0   bask_1    bask_2    bask_3    bask_4    bask_5  user_id\n0       0.157367  0.35464  0.268126  0.136947  0.069146  0.013774        6\n1       0.157367  0.35464  0.268126  0.136947  0.069146  0.013774        7\n2       0.157367  0.35464  0.268126  0.136947  0.069146  0.013774        9\n3       0.157367  0.35464  0.268126  0.136947  0.069146  0.013774       10\n4       0.157367  0.35464  0.268126  0.136947  0.069146  0.013774       11\n...          ...      ...       ...       ...       ...       ...      ...\n144719  0.157367  0.35464  0.268126  0.136947  0.069146  0.013774   415306\n144720  0.157367  0.35464  0.268126  0.136947  0.069146  0.013774   415310\n144721  0.157367  0.35464  0.268126  0.136947  0.069146  0.013774   415314\n144722  0.157367  0.35464  0.268126  0.136947  0.069146  0.013774   415315\n144723  0.157367  0.35464  0.268126  0.136947  0.069146  0.013774   415316\n\n[144724 rows x 7 columns]",
      "text/html": "<div>\n<style scoped>\n    .dataframe tbody tr th:only-of-type {\n        vertical-align: middle;\n    }\n\n    .dataframe tbody tr th {\n        vertical-align: top;\n    }\n\n    .dataframe thead th {\n        text-align: right;\n    }\n</style>\n<table border=\"1\" class=\"dataframe\">\n  <thead>\n    <tr style=\"text-align: right;\">\n      <th></th>\n      <th>bask_0</th>\n      <th>bask_1</th>\n      <th>bask_2</th>\n      <th>bask_3</th>\n      <th>bask_4</th>\n      <th>bask_5</th>\n      <th>user_id</th>\n    </tr>\n  </thead>\n  <tbody>\n    <tr>\n      <th>0</th>\n      <td>0.157367</td>\n      <td>0.35464</td>\n      <td>0.268126</td>\n      <td>0.136947</td>\n      <td>0.069146</td>\n      <td>0.013774</td>\n      <td>6</td>\n    </tr>\n    <tr>\n      <th>1</th>\n      <td>0.157367</td>\n      <td>0.35464</td>\n      <td>0.268126</td>\n      <td>0.136947</td>\n      <td>0.069146</td>\n      <td>0.013774</td>\n      <td>7</td>\n    </tr>\n    <tr>\n      <th>2</th>\n      <td>0.157367</td>\n      <td>0.35464</td>\n      <td>0.268126</td>\n      <td>0.136947</td>\n      <td>0.069146</td>\n      <td>0.013774</td>\n      <td>9</td>\n    </tr>\n    <tr>\n      <th>3</th>\n      <td>0.157367</td>\n      <td>0.35464</td>\n      <td>0.268126</td>\n      <td>0.136947</td>\n      <td>0.069146</td>\n      <td>0.013774</td>\n      <td>10</td>\n    </tr>\n    <tr>\n      <th>4</th>\n      <td>0.157367</td>\n      <td>0.35464</td>\n      <td>0.268126</td>\n      <td>0.136947</td>\n      <td>0.069146</td>\n      <td>0.013774</td>\n      <td>11</td>\n    </tr>\n    <tr>\n      <th>...</th>\n      <td>...</td>\n      <td>...</td>\n      <td>...</td>\n      <td>...</td>\n      <td>...</td>\n      <td>...</td>\n      <td>...</td>\n    </tr>\n    <tr>\n      <th>144719</th>\n      <td>0.157367</td>\n      <td>0.35464</td>\n      <td>0.268126</td>\n      <td>0.136947</td>\n      <td>0.069146</td>\n      <td>0.013774</td>\n      <td>415306</td>\n    </tr>\n    <tr>\n      <th>144720</th>\n      <td>0.157367</td>\n      <td>0.35464</td>\n      <td>0.268126</td>\n      <td>0.136947</td>\n      <td>0.069146</td>\n      <td>0.013774</td>\n      <td>415310</td>\n    </tr>\n    <tr>\n      <th>144721</th>\n      <td>0.157367</td>\n      <td>0.35464</td>\n      <td>0.268126</td>\n      <td>0.136947</td>\n      <td>0.069146</td>\n      <td>0.013774</td>\n      <td>415314</td>\n    </tr>\n    <tr>\n      <th>144722</th>\n      <td>0.157367</td>\n      <td>0.35464</td>\n      <td>0.268126</td>\n      <td>0.136947</td>\n      <td>0.069146</td>\n      <td>0.013774</td>\n      <td>415315</td>\n    </tr>\n    <tr>\n      <th>144723</th>\n      <td>0.157367</td>\n      <td>0.35464</td>\n      <td>0.268126</td>\n      <td>0.136947</td>\n      <td>0.069146</td>\n      <td>0.013774</td>\n      <td>415316</td>\n    </tr>\n  </tbody>\n</table>\n<p>144724 rows × 7 columns</p>\n</div>"
     },
     "metadata": {},
     "output_type": "display_data"
    },
    {
     "name": "stdout",
     "output_type": "stream",
     "text": [
      "None\n",
      "CPU times: total: 37.2 s\n",
      "Wall time: 1min 6s\n"
     ]
    }
   ],
   "source": [
    "%%time\n",
    "\n",
    "path = 'Dataset\\\\train test\\\\'\n",
    "path_col_data = f'Dataset\\\\age_data\\\\prob_{col_name}.parquet'\n",
    "#mean_age_for_cpe_type.parquet\n",
    "#mean_age_for_url.parquet\n",
    "data_all = dd.read_parquet(path+'test_data_pqt.parquet', columns=[col_name, 'user_id']).compute()\n",
    "#data_all = data_all[:100000]\n",
    "\n",
    "#test_data_pqt.parquet\n",
    "#train_data_pqt.parquet\n",
    "print(data_all.columns)\n",
    "\n",
    "data_all = data_all.dropna(subset=[col_name])\n",
    "\n",
    "data_all[col_name] = data_all[col_name].astype('category')\n",
    "data_all.info(show_counts=True)\n",
    "\n",
    "data_basket = dd.read_parquet(path_col_data).compute()\n",
    "data_basket.head(5)\n",
    "\n",
    "data_all = data_all.merge(data_basket, on = col_name, how = 'inner')\n",
    "data_all.info(show_counts=True)\n",
    "print(len(data_all['user_id'].unique()))\n",
    "\n",
    "\n",
    "piv = pd.pivot_table(data_all, index='user_id', values=['bask_0','bask_1', 'bask_2', 'bask_3', 'bask_4', 'bask_5'], aggfunc=np.sum)\n",
    "del data_all\n",
    "piv['user_id'] = piv.index\n",
    "piv = piv.reset_index(drop=True)\n",
    "#print(piv)\n",
    "\n",
    "piv['sum'] = piv['bask_0'] + piv['bask_1'] + piv['bask_2'] + piv['bask_3'] + piv['bask_4'] + piv['bask_5']# + piv['bask_6']\n",
    "#print(piv)\n",
    "\n",
    "piv.iloc[:, :6] = piv.iloc[:, :6].div(piv['sum'], axis = 0)\n",
    "piv = piv.drop(columns=['sum'])\n",
    "piv.to_parquet(f'Dataset\\\\age_data\\\\basket_prob_{col_name}_test.parquet', index=False)\n",
    "print(display(piv))\n",
    "\n",
    "del piv\n"
   ],
   "metadata": {
    "collapsed": false,
    "pycharm": {
     "name": "#%%\n"
    }
   }
  },
  {
   "cell_type": "code",
   "execution_count": null,
   "outputs": [],
   "source": [],
   "metadata": {
    "collapsed": false,
    "pycharm": {
     "name": "#%%\n"
    }
   }
  },
  {
   "cell_type": "code",
   "execution_count": null,
   "outputs": [],
   "source": [],
   "metadata": {
    "collapsed": false,
    "pycharm": {
     "name": "#%%\n"
    }
   }
  },
  {
   "cell_type": "code",
   "execution_count": null,
   "outputs": [],
   "source": [],
   "metadata": {
    "collapsed": false,
    "pycharm": {
     "name": "#%%\n"
    }
   }
  },
  {
   "cell_type": "code",
   "execution_count": null,
   "outputs": [],
   "source": [],
   "metadata": {
    "collapsed": false,
    "pycharm": {
     "name": "#%%\n"
    }
   }
  },
  {
   "cell_type": "code",
   "execution_count": 6,
   "outputs": [
    {
     "name": "stdout",
     "output_type": "stream",
     "text": [
      "Index(['cpe_type_cd', 'age'], dtype='object')\n",
      "<class 'pandas.core.frame.DataFrame'>\n",
      "RangeIndex: 210730009 entries, 0 to 210730008\n",
      "Data columns (total 2 columns):\n",
      " #   Column       Non-Null Count      Dtype   \n",
      "---  ------       --------------      -----   \n",
      " 0   cpe_type_cd  210730009 non-null  category\n",
      " 1   age          210730009 non-null  int8    \n",
      "dtypes: category(1), int8(1)\n",
      "memory usage: 401.9 MB\n",
      "None\n"
     ]
    },
    {
     "data": {
      "text/plain": "              count                                                           \nbasket_age        0         1         2         3         4         5        6\ncpe_type_cd                                                                   \nsmartphone   826300  32323962  74707059  56482483  28848696  14566138  2901607\nplain             0       465       529      3892      9160      5706      779\ntablet            0       261      3810     11471      8178     10246     2078\nphablet           0        11       874       928      5304      6731     3341",
      "text/html": "<div>\n<style scoped>\n    .dataframe tbody tr th:only-of-type {\n        vertical-align: middle;\n    }\n\n    .dataframe tbody tr th {\n        vertical-align: top;\n    }\n\n    .dataframe thead tr th {\n        text-align: left;\n    }\n\n    .dataframe thead tr:last-of-type th {\n        text-align: right;\n    }\n</style>\n<table border=\"1\" class=\"dataframe\">\n  <thead>\n    <tr>\n      <th></th>\n      <th colspan=\"7\" halign=\"left\">count</th>\n    </tr>\n    <tr>\n      <th>basket_age</th>\n      <th>0</th>\n      <th>1</th>\n      <th>2</th>\n      <th>3</th>\n      <th>4</th>\n      <th>5</th>\n      <th>6</th>\n    </tr>\n    <tr>\n      <th>cpe_type_cd</th>\n      <th></th>\n      <th></th>\n      <th></th>\n      <th></th>\n      <th></th>\n      <th></th>\n      <th></th>\n    </tr>\n  </thead>\n  <tbody>\n    <tr>\n      <th>smartphone</th>\n      <td>826300</td>\n      <td>32323962</td>\n      <td>74707059</td>\n      <td>56482483</td>\n      <td>28848696</td>\n      <td>14566138</td>\n      <td>2901607</td>\n    </tr>\n    <tr>\n      <th>plain</th>\n      <td>0</td>\n      <td>465</td>\n      <td>529</td>\n      <td>3892</td>\n      <td>9160</td>\n      <td>5706</td>\n      <td>779</td>\n    </tr>\n    <tr>\n      <th>tablet</th>\n      <td>0</td>\n      <td>261</td>\n      <td>3810</td>\n      <td>11471</td>\n      <td>8178</td>\n      <td>10246</td>\n      <td>2078</td>\n    </tr>\n    <tr>\n      <th>phablet</th>\n      <td>0</td>\n      <td>11</td>\n      <td>874</td>\n      <td>928</td>\n      <td>5304</td>\n      <td>6731</td>\n      <td>3341</td>\n    </tr>\n  </tbody>\n</table>\n</div>"
     },
     "metadata": {},
     "output_type": "display_data"
    },
    {
     "name": "stdout",
     "output_type": "stream",
     "text": [
      "None\n",
      "basket_age        0         1         2         3         4         5        6\n",
      "cpe_type_cd                                                                   \n",
      "smartphone   826300  32323962  74707059  56482483  28848696  14566138  2901607\n",
      "plain             0       465       529      3892      9160      5706      779\n",
      "tablet            0       261      3810     11471      8178     10246     2078\n",
      "phablet           0        11       874       928      5304      6731     3341\n",
      "basket_age        0         1         2         3         4         5  \\\n",
      "cpe_type_cd                                                             \n",
      "smartphone   826300  32323962  74707059  56482483  28848696  14566138   \n",
      "plain             0       465       529      3892      9160      5706   \n",
      "tablet            0       261      3810     11471      8178     10246   \n",
      "phablet           0        11       874       928      5304      6731   \n",
      "\n",
      "basket_age         6 cpe_type_cd  \n",
      "cpe_type_cd                       \n",
      "smartphone   2901607       [1.0]  \n",
      "plain            779       [1.0]  \n",
      "tablet          2078       [1.0]  \n",
      "phablet         3341       [1.0]  \n",
      "basket_age   bask_0    bask_1    bask_2    bask_3    bask_4    bask_5  \\\n",
      "cpe_type_cd                                                             \n",
      "smartphone   826300  32323962  74707059  56482483  28848696  14566138   \n",
      "plain             0       465       529      3892      9160      5706   \n",
      "tablet            0       261      3810     11471      8178     10246   \n",
      "phablet           0        11       874       928      5304      6731   \n",
      "\n",
      "basket_age    bask_6 cpe_type_cd  \n",
      "cpe_type_cd                       \n",
      "smartphone   2901607  smartphone  \n",
      "plain            779       plain  \n",
      "tablet          2078      tablet  \n",
      "phablet         3341     phablet  \n",
      "CPU times: total: 55.5 s\n",
      "Wall time: 1min 15s\n"
     ]
    }
   ],
   "source": [
    "%%time\n",
    "\n",
    "def age_bucket(x):\n",
    "    return bisect.bisect_left([18,25,35,45,55,65], x)\n",
    "\n",
    "def func(row):\n",
    "    sum = 0\n",
    "    for i in range(7):\n",
    "        sum += row[i]*i\n",
    "    return sum / np.sum(row)\n",
    "\n",
    "\n",
    "col_name = 'cpe_type_cd'\n",
    "\n",
    "path = 'Dataset\\\\train test\\\\'\n",
    "data_all = dd.read_parquet(path+'train_data_pqt.parquet', columns=[col_name,'age']).compute()\n",
    "print(data_all.columns)\n",
    "\n",
    "data_all = data_all.dropna(subset=['age'])\n",
    "data_all = data_all.dropna(subset=[col_name])\n",
    "\n",
    "data_all[col_name] = data_all[col_name].astype('category')\n",
    "print(data_all.info(show_counts=True))\n",
    "\n",
    "\n",
    "data_all['basket_age'] = data_all['age'].map(age_bucket)\n",
    "piv_count = pd.pivot_table(data_all, index=col_name, values = 'basket_age', columns='basket_age', aggfunc=['count'])\n",
    "del data_all\n",
    "print(display(piv_count))\n",
    "\n",
    "piv_count.columns = piv_count.columns.droplevel(level=0)\n",
    "print(piv_count)\n",
    "\n",
    "\n",
    "piv_count[col_name] = piv_count[[0,1,2,3,4,5,6]].apply(lambda row : func(row), axis=1)\n",
    "print(piv_count)\n",
    "\n",
    "piv_count[col_name] = piv_count.index\n",
    "piv_count = piv_count.rename(columns={0: 'bask_0', 1: 'bask_1', 2: 'bask_2', 3: 'bask_3', 4: 'bask_4', 5: 'bask_5', 6: 'bask_6'})\n",
    "print(piv_count)\n",
    "\n",
    "\n",
    "piv_count.to_parquet('Dataset\\\\age_data\\\\mean_age_for_cpe_type.parquet', index=False)\n",
    "#mean_age_for_cpe_type\n",
    "#mean_age_for_url"
   ],
   "metadata": {
    "collapsed": false,
    "pycharm": {
     "name": "#%%\n"
    }
   }
  },
  {
   "cell_type": "code",
   "execution_count": null,
   "outputs": [],
   "source": [],
   "metadata": {
    "collapsed": false,
    "pycharm": {
     "name": "#%%\n"
    }
   }
  },
  {
   "cell_type": "code",
   "execution_count": null,
   "outputs": [],
   "source": [],
   "metadata": {
    "collapsed": false,
    "pycharm": {
     "name": "#%%\n"
    }
   }
  },
  {
   "cell_type": "code",
   "execution_count": null,
   "outputs": [],
   "source": [],
   "metadata": {
    "collapsed": false,
    "pycharm": {
     "name": "#%%\n"
    }
   }
  },
  {
   "cell_type": "code",
   "execution_count": 2,
   "outputs": [
    {
     "name": "stdout",
     "output_type": "stream",
     "text": [
      "Index(['url_host', 'user_id'], dtype='object')\n",
      "<class 'pandas.core.frame.DataFrame'>\n",
      "Int64Index: 111734107 entries, 0 to 44625242\n",
      "Data columns (total 2 columns):\n",
      " #   Column    Non-Null Count      Dtype   \n",
      "---  ------    --------------      -----   \n",
      " 0   url_host  111734107 non-null  category\n",
      " 1   user_id   111734107 non-null  int64   \n",
      "dtypes: category(1), int64(1)\n",
      "memory usage: 2.1 GB\n",
      "<class 'pandas.core.frame.DataFrame'>\n",
      "Int64Index: 111595145 entries, 0 to 111595144\n",
      "Data columns (total 9 columns):\n",
      " #   Column    Non-Null Count      Dtype \n",
      "---  ------    --------------      ----- \n",
      " 0   url_host  111595145 non-null  object\n",
      " 1   user_id   111595145 non-null  int64 \n",
      " 2   bask_0    111595145 non-null  int64 \n",
      " 3   bask_1    111595145 non-null  int64 \n",
      " 4   bask_2    111595145 non-null  int64 \n",
      " 5   bask_3    111595145 non-null  int64 \n",
      " 6   bask_4    111595145 non-null  int64 \n",
      " 7   bask_5    111595145 non-null  int64 \n",
      " 8   bask_6    111595145 non-null  int64 \n",
      "dtypes: int64(8), object(1)\n",
      "memory usage: 8.3+ GB\n",
      "144723\n"
     ]
    },
    {
     "name": "stderr",
     "output_type": "stream",
     "text": [
      "\n",
      "KeyboardInterrupt\n",
      "\n"
     ]
    }
   ],
   "source": [
    "%%time\n",
    "col_name = 'url_host'\n",
    "#cpe_type_cd\n",
    "#url_host\n",
    "\n",
    "path = 'Dataset\\\\train test\\\\'\n",
    "path_col_data = 'Dataset\\\\age_data\\\\mean_age_for_url.parquet'\n",
    "#mean_age_for_cpe_type.parquet\n",
    "#mean_age_for_url.parquet\n",
    "\n",
    "\n",
    "\n",
    "data_all = dd.read_parquet(path+'test_data_pqt.parquet', columns=[col_name, 'user_id']).compute()\n",
    "\n",
    "\n",
    "#test_data_pqt.parquet\n",
    "#train_data_pqt.parquet\n",
    "print(data_all.columns)\n",
    "\n",
    "data_all = data_all.dropna(subset=[col_name])\n",
    "\n",
    "data_all[col_name] = data_all[col_name].astype('category')\n",
    "data_all.info(show_counts=True)\n",
    "\n",
    "data_basket = dd.read_parquet(path_col_data).compute()\n",
    "data_basket.head(5)\n",
    "\n",
    "data_all = data_all.merge(data_basket, on = col_name, how = 'inner')\n",
    "data_all.info(show_counts=True)\n",
    "print(len(data_all['user_id'].unique()))\n",
    "\n",
    "def func(x):\n",
    "    sum_col = x.sum()\n",
    "    sum_all = sum_col.sum()\n",
    "    res = sum_col / sum_all\n",
    "    res = pd.Series(res)\n",
    "    res = res.to_frame('prob')\n",
    "    return res.T.to_numpy()[0]\n",
    "\n",
    "piv = pd.pivot_table(data_all, index='user_id', values=['bask_0','bask_1', 'bask_2', 'bask_3', 'bask_4', 'bask_5','bask_6'], aggfunc=func)\n",
    "piv['user_id'] = piv.index\n",
    "piv.to_parquet(f'Dataset\\\\age_data\\\\basket_prob_{col_name}_test.parquet', index=False)\n",
    "#basket_prob_cpe_type_train.parquet\n",
    "#basket_prob_url_train.parquet\n",
    "print(display(piv))"
   ],
   "metadata": {
    "collapsed": false,
    "pycharm": {
     "name": "#%%\n"
    }
   }
  },
  {
   "cell_type": "code",
   "execution_count": null,
   "outputs": [],
   "source": [],
   "metadata": {
    "collapsed": false,
    "pycharm": {
     "name": "#%%\n"
    }
   }
  },
  {
   "cell_type": "code",
   "execution_count": 45,
   "outputs": [
    {
     "ename": "NameError",
     "evalue": "name 'data_all' is not defined",
     "output_type": "error",
     "traceback": [
      "\u001B[1;31m---------------------------------------------------------------------------\u001B[0m",
      "\u001B[1;31mNameError\u001B[0m                                 Traceback (most recent call last)",
      "Cell \u001B[1;32mIn[45], line 1\u001B[0m\n\u001B[1;32m----> 1\u001B[0m \u001B[38;5;28;01mdel\u001B[39;00m data_all\n",
      "\u001B[1;31mNameError\u001B[0m: name 'data_all' is not defined"
     ]
    }
   ],
   "source": [
    "del data_all"
   ],
   "metadata": {
    "collapsed": false,
    "pycharm": {
     "name": "#%%\n"
    }
   }
  },
  {
   "cell_type": "markdown",
   "source": [
    "### Тестирование внизу различных предположений"
   ],
   "metadata": {
    "collapsed": false,
    "pycharm": {
     "name": "#%% md\n"
    }
   }
  },
  {
   "cell_type": "code",
   "execution_count": null,
   "outputs": [],
   "source": [],
   "metadata": {
    "collapsed": false,
    "pycharm": {
     "name": "#%%\n"
    }
   }
  },
  {
   "cell_type": "code",
   "execution_count": 6,
   "outputs": [
    {
     "name": "stdout",
     "output_type": "stream",
     "text": [
      "<class 'pandas.core.frame.DataFrame'>\n",
      "Int64Index: 144724 entries, 221301 to 145315\n",
      "Data columns (total 1 columns):\n",
      " #   Column   Non-Null Count   Dtype\n",
      "---  ------   --------------   -----\n",
      " 0   user_id  144724 non-null  int64\n",
      "dtypes: int64(1)\n",
      "memory usage: 2.2 MB\n",
      "None\n"
     ]
    }
   ],
   "source": [
    "data_target_file = dd.read_parquet('submit_2.pqt').compute()\n",
    "print(data_target_file.info())\n",
    "#print(data_target_file[data_target_file['age'].isna()])\n",
    "del data_target_file"
   ],
   "metadata": {
    "collapsed": false,
    "pycharm": {
     "name": "#%%\n"
    }
   }
  },
  {
   "cell_type": "code",
   "execution_count": 15,
   "outputs": [
    {
     "data": {
      "text/plain": "         age is_male  user_id\n350459  31.0       1   350459\n188276  35.0       1   188276\n99002   41.0       0    99002\n155506  33.0       0   155506\n213873  54.0       0   213873\n...      ...     ...      ...\n225374  49.0       1   225374\n25776   22.0       1    25776\n148131  28.0       0   148131\n205570  28.0       1   205570\n103148  68.0       1   103148\n\n[270000 rows x 3 columns]",
      "text/html": "<div>\n<style scoped>\n    .dataframe tbody tr th:only-of-type {\n        vertical-align: middle;\n    }\n\n    .dataframe tbody tr th {\n        vertical-align: top;\n    }\n\n    .dataframe thead th {\n        text-align: right;\n    }\n</style>\n<table border=\"1\" class=\"dataframe\">\n  <thead>\n    <tr style=\"text-align: right;\">\n      <th></th>\n      <th>age</th>\n      <th>is_male</th>\n      <th>user_id</th>\n    </tr>\n  </thead>\n  <tbody>\n    <tr>\n      <th>350459</th>\n      <td>31.0</td>\n      <td>1</td>\n      <td>350459</td>\n    </tr>\n    <tr>\n      <th>188276</th>\n      <td>35.0</td>\n      <td>1</td>\n      <td>188276</td>\n    </tr>\n    <tr>\n      <th>99002</th>\n      <td>41.0</td>\n      <td>0</td>\n      <td>99002</td>\n    </tr>\n    <tr>\n      <th>155506</th>\n      <td>33.0</td>\n      <td>0</td>\n      <td>155506</td>\n    </tr>\n    <tr>\n      <th>213873</th>\n      <td>54.0</td>\n      <td>0</td>\n      <td>213873</td>\n    </tr>\n    <tr>\n      <th>...</th>\n      <td>...</td>\n      <td>...</td>\n      <td>...</td>\n    </tr>\n    <tr>\n      <th>225374</th>\n      <td>49.0</td>\n      <td>1</td>\n      <td>225374</td>\n    </tr>\n    <tr>\n      <th>25776</th>\n      <td>22.0</td>\n      <td>1</td>\n      <td>25776</td>\n    </tr>\n    <tr>\n      <th>148131</th>\n      <td>28.0</td>\n      <td>0</td>\n      <td>148131</td>\n    </tr>\n    <tr>\n      <th>205570</th>\n      <td>28.0</td>\n      <td>1</td>\n      <td>205570</td>\n    </tr>\n    <tr>\n      <th>103148</th>\n      <td>68.0</td>\n      <td>1</td>\n      <td>103148</td>\n    </tr>\n  </tbody>\n</table>\n<p>270000 rows × 3 columns</p>\n</div>"
     },
     "metadata": {},
     "output_type": "display_data"
    }
   ],
   "source": [
    "data_features_file = dd.read_parquet('.\\\\competition_data_final_pqt' + f'\\\\part-00000-aba60f69-2b63-4cc1-95ca-542598094698-c000.snappy.parquet').compute()\n",
    "\n",
    "data_target_file = dd.read_parquet('public_train.pqt').compute()\n",
    "\n",
    "display(data_target_file)"
   ],
   "metadata": {
    "collapsed": false,
    "pycharm": {
     "name": "#%%\n"
    }
   }
  },
  {
   "cell_type": "code",
   "execution_count": 18,
   "outputs": [
    {
     "data": {
      "text/plain": "Index(['region_name', 'city_name', 'cpe_manufacturer_name', 'cpe_model_name',\n       'url_host', 'cpe_type_cd', 'cpe_model_os_type', 'price', 'date',\n       'part_of_day', 'request_cnt', 'user_id'],\n      dtype='object')"
     },
     "execution_count": 18,
     "metadata": {},
     "output_type": "execute_result"
    }
   ],
   "source": [
    "data_features_file.columns"
   ],
   "metadata": {
    "collapsed": false,
    "pycharm": {
     "name": "#%%\n"
    }
   }
  },
  {
   "cell_type": "code",
   "execution_count": 33,
   "outputs": [],
   "source": [
    "#del data_features_file\n",
    "#del data_target_file"
   ],
   "metadata": {
    "collapsed": false,
    "pycharm": {
     "name": "#%%\n"
    }
   }
  },
  {
   "cell_type": "code",
   "execution_count": null,
   "outputs": [],
   "source": [
    "#data_features_file = data_features_file.loc[:100]\n",
    "display(data_features_file)"
   ],
   "metadata": {
    "collapsed": false,
    "pycharm": {
     "name": "#%%\n"
    }
   }
  },
  {
   "cell_type": "code",
   "execution_count": 30,
   "outputs": [],
   "source": [
    "data_features_file = data_features_file.merge(data_target_file[['age', 'is_male','user_id']], on = 'user_id', how = 'left')"
   ],
   "metadata": {
    "collapsed": false,
    "pycharm": {
     "name": "#%%\n"
    }
   }
  },
  {
   "cell_type": "code",
   "execution_count": null,
   "outputs": [],
   "source": [
    "data_features_file"
   ],
   "metadata": {
    "collapsed": false,
    "pycharm": {
     "name": "#%%\n"
    }
   }
  },
  {
   "cell_type": "code",
   "execution_count": null,
   "outputs": [],
   "source": [
    "display(data_features_file[data_features_file['age'].notna()])"
   ],
   "metadata": {
    "collapsed": false,
    "pycharm": {
     "name": "#%%\n"
    }
   }
  },
  {
   "cell_type": "code",
   "execution_count": 32,
   "outputs": [],
   "source": [],
   "metadata": {
    "collapsed": false,
    "pycharm": {
     "name": "#%%\n"
    }
   }
  },
  {
   "cell_type": "code",
   "execution_count": null,
   "outputs": [],
   "source": [],
   "metadata": {
    "collapsed": false,
    "pycharm": {
     "name": "#%%\n"
    }
   }
  },
  {
   "cell_type": "code",
   "execution_count": null,
   "outputs": [],
   "source": [],
   "metadata": {
    "collapsed": false,
    "pycharm": {
     "name": "#%%\n"
    }
   }
  }
 ],
 "metadata": {
  "kernelspec": {
   "display_name": "Python 3",
   "language": "python",
   "name": "python3"
  },
  "language_info": {
   "codemirror_mode": {
    "name": "ipython",
    "version": 2
   },
   "file_extension": ".py",
   "mimetype": "text/x-python",
   "name": "python",
   "nbconvert_exporter": "python",
   "pygments_lexer": "ipython2",
   "version": "2.7.6"
  }
 },
 "nbformat": 4,
 "nbformat_minor": 0
}