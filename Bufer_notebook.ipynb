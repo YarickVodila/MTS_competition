{
 "cells": [
  {
   "cell_type": "code",
   "execution_count": 1,
   "metadata": {
    "collapsed": true,
    "pycharm": {
     "name": "#%%\n"
    }
   },
   "outputs": [],
   "source": [
    "import numpy as np\n",
    "import pandas as pd\n",
    "#import matplotlib.pyplot as plt\n",
    "import dask.dataframe as dd\n",
    "#import pyarrow.parquet as pq\n",
    "from IPython.display import clear_output\n",
    "import time\n",
    "from sklearn.model_selection import train_test_split\n",
    "from catboost import CatBoostClassifier\n",
    "from sklearn.metrics import roc_auc_score, classification_report"
   ]
  },
  {
   "cell_type": "code",
   "execution_count": 2,
   "outputs": [
    {
     "name": "stdout",
     "output_type": "stream",
     "text": [
      "<class 'pandas.core.frame.DataFrame'>\n",
      "RangeIndex: 85 entries, 0 to 84\n",
      "Data columns (total 2 columns):\n",
      " #   Column       Non-Null Count  Dtype  \n",
      "---  ------       --------------  -----  \n",
      " 0   region_name  85 non-null     object \n",
      " 1   procent      85 non-null     float64\n",
      "dtypes: float64(1), object(1)\n",
      "memory usage: 1.5+ KB\n",
      "None\n",
      "                        region_name    procent\n",
      "0                            Адыгея  46.691663\n",
      "1                    Алтайский край  46.185062\n",
      "2                  Амурская область  47.306061\n",
      "3             Архангельская область  46.855966\n",
      "4              Астраханская область  47.089999\n",
      "..                              ...        ...\n",
      "80                          Чувашия  46.751355\n",
      "81       Чукотский автономный округ  51.004016\n",
      "82                           Якутия  48.514749\n",
      "83  Ямало-Ненецкий автономный округ  49.533582\n",
      "84              Ярославская область  44.865035\n",
      "\n",
      "[85 rows x 2 columns]\n"
     ]
    }
   ],
   "source": [
    "path_reg = 'Dataset\\\\Процент_мужчин.csv'\n",
    "reg_data = pd.read_csv(path_reg, usecols=[1,2], names = ['1', 'region_name', 'procent'])\n",
    "print(reg_data.info())\n",
    "print(reg_data)"
   ],
   "metadata": {
    "collapsed": false,
    "pycharm": {
     "name": "#%%\n"
    }
   }
  },
  {
   "cell_type": "code",
   "execution_count": 3,
   "outputs": [
    {
     "name": "stdout",
     "output_type": "stream",
     "text": [
      "<class 'pandas.core.frame.DataFrame'>\n",
      "RangeIndex: 415317 entries, 0 to 415316\n",
      "Data columns (total 2 columns):\n",
      " #   Column       Non-Null Count   Dtype \n",
      "---  ------       --------------   ----- \n",
      " 0   user_id      415317 non-null  int32 \n",
      " 1   region_name  415317 non-null  object\n",
      "dtypes: int32(1), object(1)\n",
      "memory usage: 4.8+ MB\n"
     ]
    }
   ],
   "source": [
    "path = 'Dataset\\\\figma_plan\\\\full_gender_data_txt.parquet'\n",
    "data = dd.read_parquet(path)\n",
    "data = data[['user_id', 'region_name']].compute()\n",
    "data.info()\n"
   ],
   "metadata": {
    "collapsed": false,
    "pycharm": {
     "name": "#%%\n"
    }
   }
  },
  {
   "cell_type": "code",
   "execution_count": 4,
   "outputs": [
    {
     "name": "stdout",
     "output_type": "stream",
     "text": [
      "<class 'pandas.core.frame.DataFrame'>\n",
      "Int64Index: 415317 entries, 0 to 415316\n",
      "Data columns (total 3 columns):\n",
      " #   Column       Non-Null Count   Dtype  \n",
      "---  ------       --------------   -----  \n",
      " 0   user_id      415317 non-null  int32  \n",
      " 1   region_name  415317 non-null  object \n",
      " 2   procent      340377 non-null  float64\n",
      "dtypes: float64(1), int32(1), object(1)\n",
      "memory usage: 11.1+ MB\n",
      "None\n",
      "['Республика Башкортостан' 'Удмуртская Республика' 'Республика Татарстан'\n",
      " 'Кемеровская область - Кузбасс' 'Республика Карелия'\n",
      " 'Республика Северная Осетия — Алания' 'Ямало-Ненецкий АО'\n",
      " 'Чувашская Республика' 'Республика Мордовия' 'Ханты-Мансийский АО — Югра'\n",
      " 'Республика Адыгея' 'Республика Саха (Якутия)'\n",
      " 'Кабардино-Балкарская Республика' 'Республика Хакасия'\n",
      " 'Республика Дагестан' 'Карачаево-Черкесская Республика'\n",
      " 'Республика Марий Эл' 'Еврейская АО' 'Чеченская Республика' 'Ненецкий АО'\n",
      " 'Республика Ингушетия' 'Республика Калмыкия' 'Чукотский АО']\n"
     ]
    }
   ],
   "source": [
    "data = data.merge(reg_data, on='region_name', how='left')\n",
    "print(data.info())\n",
    "print(data[data['procent'].isna()]['region_name'].unique())"
   ],
   "metadata": {
    "collapsed": false,
    "pycharm": {
     "name": "#%%\n"
    }
   }
  },
  {
   "cell_type": "code",
   "execution_count": 5,
   "outputs": [
    {
     "name": "stdout",
     "output_type": "stream",
     "text": [
      "    user_id              region_name    procent\n",
      "0         0                   Москва  46.190442\n",
      "1         1                   Москва  46.190442\n",
      "2         2          Республика Коми  47.207525\n",
      "3         3      Воронежская область  45.893637\n",
      "4         4       Краснодарский край  46.364142\n",
      "5         5    Ленинградская область  46.097356\n",
      "6         6       Московская область  46.210009\n",
      "7         7                   Москва  46.190442\n",
      "8         8    Нижегородская область  45.361333\n",
      "9         9    Нижегородская область  45.361333\n",
      "10       10    Нижегородская область  45.361333\n",
      "11       11          Приморский край  47.891425\n",
      "12       12  Республика Башкортостан        NaN\n",
      "13       13     Свердловская область  45.874717\n",
      "14       14    Удмуртская Республика        NaN\n",
      "15       15    Удмуртская Республика        NaN\n",
      "16       16      Челябинская область  45.795620\n",
      "17       17      Вологодская область  46.093420\n",
      "18       18       Краснодарский край  46.364142\n",
      "19       19        Красноярский край  46.697736\n",
      "    user_id              region_name    procent\n",
      "0         0                   Москва  46.190442\n",
      "1         1                   Москва  46.190442\n",
      "2         2          Республика Коми  47.207525\n",
      "3         3      Воронежская область  45.893637\n",
      "4         4       Краснодарский край  46.364142\n",
      "5         5    Ленинградская область  46.097356\n",
      "6         6       Московская область  46.210009\n",
      "7         7                   Москва  46.190442\n",
      "8         8    Нижегородская область  45.361333\n",
      "9         9    Нижегородская область  45.361333\n",
      "10       10    Нижегородская область  45.361333\n",
      "11       11          Приморский край  47.891425\n",
      "12       12  Республика Башкортостан  46.842882\n",
      "13       13     Свердловская область  45.874717\n",
      "14       14    Удмуртская Республика  46.031118\n",
      "15       15    Удмуртская Республика  46.031118\n",
      "16       16      Челябинская область  45.795620\n",
      "17       17      Вологодская область  46.093420\n",
      "18       18       Краснодарский край  46.364142\n",
      "19       19        Красноярский край  46.697736\n"
     ]
    }
   ],
   "source": [
    "def func(row):\n",
    "    if row.isna()['procent']:\n",
    "        reg = row['region_name'].replace('Республика', '')\n",
    "        reg = reg.replace(' ', '')[:5]\n",
    "        if reg == 'Саха(':\n",
    "            reg = 'Якут'\n",
    "        elif reg == 'Чечен':\n",
    "            reg = 'Чечня'\n",
    "        #print(reg_data[reg_data['region_name'].str.contains(reg, regex=False)]['procent'])\n",
    "        #return reg_data[reg_data['region_name'].str.contains(reg, regex=False)]['procent']\n",
    "        return reg_data[reg_data['region_name'].str.contains(reg, regex=False)]['procent'].values[0]\n",
    "    else:\n",
    "        return row['procent']\n",
    "\n",
    "\n",
    "print(data.head(20))\n",
    "data['procent'] = data[['region_name','procent']].apply(lambda row : func(row), axis=1)\n",
    "#print(data[['region_name','procent']].apply(lambda row : func(row), axis=1).head(20))\n",
    "print(data.head(20))"
   ],
   "metadata": {
    "collapsed": false,
    "pycharm": {
     "name": "#%%\n"
    }
   }
  },
  {
   "cell_type": "code",
   "execution_count": 6,
   "outputs": [
    {
     "data": {
      "text/plain": "          procent\n0       46.190442\n1       46.190442\n2       47.207525\n3       45.893637\n4       46.364142\n...           ...\n415312  46.063635\n415313  45.780897\n415314  46.551538\n415315  46.364142\n415316  46.031118\n\n[415317 rows x 1 columns]",
      "text/html": "<div>\n<style scoped>\n    .dataframe tbody tr th:only-of-type {\n        vertical-align: middle;\n    }\n\n    .dataframe tbody tr th {\n        vertical-align: top;\n    }\n\n    .dataframe thead th {\n        text-align: right;\n    }\n</style>\n<table border=\"1\" class=\"dataframe\">\n  <thead>\n    <tr style=\"text-align: right;\">\n      <th></th>\n      <th>procent</th>\n    </tr>\n  </thead>\n  <tbody>\n    <tr>\n      <th>0</th>\n      <td>46.190442</td>\n    </tr>\n    <tr>\n      <th>1</th>\n      <td>46.190442</td>\n    </tr>\n    <tr>\n      <th>2</th>\n      <td>47.207525</td>\n    </tr>\n    <tr>\n      <th>3</th>\n      <td>45.893637</td>\n    </tr>\n    <tr>\n      <th>4</th>\n      <td>46.364142</td>\n    </tr>\n    <tr>\n      <th>...</th>\n      <td>...</td>\n    </tr>\n    <tr>\n      <th>415312</th>\n      <td>46.063635</td>\n    </tr>\n    <tr>\n      <th>415313</th>\n      <td>45.780897</td>\n    </tr>\n    <tr>\n      <th>415314</th>\n      <td>46.551538</td>\n    </tr>\n    <tr>\n      <th>415315</th>\n      <td>46.364142</td>\n    </tr>\n    <tr>\n      <th>415316</th>\n      <td>46.031118</td>\n    </tr>\n  </tbody>\n</table>\n<p>415317 rows × 1 columns</p>\n</div>"
     },
     "execution_count": 6,
     "metadata": {},
     "output_type": "execute_result"
    }
   ],
   "source": [
    "data = data.sort_values('user_id')\n",
    "data[['procent']]"
   ],
   "metadata": {
    "collapsed": false,
    "pycharm": {
     "name": "#%%\n"
    }
   }
  },
  {
   "cell_type": "code",
   "execution_count": 7,
   "outputs": [],
   "source": [
    "data[['user_id','procent']].to_parquet('Dataset\\\\figma_plan\\\\region_procent.parquet', index=False)"
   ],
   "metadata": {
    "collapsed": false,
    "pycharm": {
     "name": "#%%\n"
    }
   }
  },
  {
   "cell_type": "code",
   "execution_count": 7,
   "outputs": [],
   "source": [],
   "metadata": {
    "collapsed": false,
    "pycharm": {
     "name": "#%%\n"
    }
   }
  }
 ],
 "metadata": {
  "kernelspec": {
   "display_name": "Python 3",
   "language": "python",
   "name": "python3"
  },
  "language_info": {
   "codemirror_mode": {
    "name": "ipython",
    "version": 2
   },
   "file_extension": ".py",
   "mimetype": "text/x-python",
   "name": "python",
   "nbconvert_exporter": "python",
   "pygments_lexer": "ipython2",
   "version": "2.7.6"
  }
 },
 "nbformat": 4,
 "nbformat_minor": 0
}