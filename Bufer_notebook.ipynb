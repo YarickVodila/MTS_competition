{
 "cells": [
  {
   "cell_type": "code",
   "execution_count": 48,
   "metadata": {
    "collapsed": true,
    "pycharm": {
     "name": "#%%\n"
    }
   },
   "outputs": [],
   "source": [
    "import numpy as np\n",
    "import pandas as pd\n",
    "#import matplotlib.pyplot as plt\n",
    "import dask.dataframe as dd\n",
    "from openpyxl.styles import Border\n",
    "import openpyxl.styles\n",
    "from openpyxl import load_workbook\n",
    "#import pyarrow.parquet as pq\n",
    "from IPython.display import clear_output\n",
    "import time\n",
    "from sklearn.model_selection import train_test_split\n",
    "from catboost import CatBoostClassifier\n",
    "from sklearn.metrics import roc_auc_score, classification_report\n",
    "from sklearn.preprocessing import MinMaxScaler"
   ]
  },
  {
   "cell_type": "code",
   "execution_count": 2,
   "outputs": [
    {
     "name": "stdout",
     "output_type": "stream",
     "text": [
      "<class 'pandas.core.frame.DataFrame'>\n",
      "RangeIndex: 85 entries, 0 to 84\n",
      "Data columns (total 2 columns):\n",
      " #   Column       Non-Null Count  Dtype  \n",
      "---  ------       --------------  -----  \n",
      " 0   region_name  85 non-null     object \n",
      " 1   procent      85 non-null     float64\n",
      "dtypes: float64(1), object(1)\n",
      "memory usage: 1.5+ KB\n",
      "None\n",
      "                        region_name    procent\n",
      "0                            Адыгея  46.691663\n",
      "1                    Алтайский край  46.185062\n",
      "2                  Амурская область  47.306061\n",
      "3             Архангельская область  46.855966\n",
      "4              Астраханская область  47.089999\n",
      "..                              ...        ...\n",
      "80                          Чувашия  46.751355\n",
      "81       Чукотский автономный округ  51.004016\n",
      "82                           Якутия  48.514749\n",
      "83  Ямало-Ненецкий автономный округ  49.533582\n",
      "84              Ярославская область  44.865035\n",
      "\n",
      "[85 rows x 2 columns]\n"
     ]
    }
   ],
   "source": [
    "path_reg = 'Dataset\\\\Процент_мужчин.csv'\n",
    "reg_data = pd.read_csv(path_reg, usecols=[1,2], names = ['1', 'region_name', 'procent'])\n",
    "print(reg_data.info())\n",
    "print(reg_data)"
   ],
   "metadata": {
    "collapsed": false,
    "pycharm": {
     "name": "#%%\n"
    }
   }
  },
  {
   "cell_type": "code",
   "execution_count": 3,
   "outputs": [
    {
     "name": "stdout",
     "output_type": "stream",
     "text": [
      "<class 'pandas.core.frame.DataFrame'>\n",
      "RangeIndex: 415317 entries, 0 to 415316\n",
      "Data columns (total 2 columns):\n",
      " #   Column       Non-Null Count   Dtype \n",
      "---  ------       --------------   ----- \n",
      " 0   user_id      415317 non-null  int32 \n",
      " 1   region_name  415317 non-null  object\n",
      "dtypes: int32(1), object(1)\n",
      "memory usage: 4.8+ MB\n"
     ]
    }
   ],
   "source": [
    "path = 'Dataset\\\\figma_plan\\\\full_gender_data_txt.parquet'\n",
    "data = dd.read_parquet(path)\n",
    "data = data[['user_id', 'region_name']].compute()\n",
    "data.info()\n"
   ],
   "metadata": {
    "collapsed": false,
    "pycharm": {
     "name": "#%%\n"
    }
   }
  },
  {
   "cell_type": "code",
   "execution_count": 4,
   "outputs": [
    {
     "name": "stdout",
     "output_type": "stream",
     "text": [
      "<class 'pandas.core.frame.DataFrame'>\n",
      "Int64Index: 415317 entries, 0 to 415316\n",
      "Data columns (total 3 columns):\n",
      " #   Column       Non-Null Count   Dtype  \n",
      "---  ------       --------------   -----  \n",
      " 0   user_id      415317 non-null  int32  \n",
      " 1   region_name  415317 non-null  object \n",
      " 2   procent      340377 non-null  float64\n",
      "dtypes: float64(1), int32(1), object(1)\n",
      "memory usage: 11.1+ MB\n",
      "None\n",
      "['Республика Башкортостан' 'Удмуртская Республика' 'Республика Татарстан'\n",
      " 'Кемеровская область - Кузбасс' 'Республика Карелия'\n",
      " 'Республика Северная Осетия — Алания' 'Ямало-Ненецкий АО'\n",
      " 'Чувашская Республика' 'Республика Мордовия' 'Ханты-Мансийский АО — Югра'\n",
      " 'Республика Адыгея' 'Республика Саха (Якутия)'\n",
      " 'Кабардино-Балкарская Республика' 'Республика Хакасия'\n",
      " 'Республика Дагестан' 'Карачаево-Черкесская Республика'\n",
      " 'Республика Марий Эл' 'Еврейская АО' 'Чеченская Республика' 'Ненецкий АО'\n",
      " 'Республика Ингушетия' 'Республика Калмыкия' 'Чукотский АО']\n"
     ]
    }
   ],
   "source": [
    "data = data.merge(reg_data, on='region_name', how='left')\n",
    "print(data.info())\n",
    "print(data[data['procent'].isna()]['region_name'].unique())"
   ],
   "metadata": {
    "collapsed": false,
    "pycharm": {
     "name": "#%%\n"
    }
   }
  },
  {
   "cell_type": "code",
   "execution_count": 5,
   "outputs": [
    {
     "name": "stdout",
     "output_type": "stream",
     "text": [
      "    user_id              region_name    procent\n",
      "0         0                   Москва  46.190442\n",
      "1         1                   Москва  46.190442\n",
      "2         2          Республика Коми  47.207525\n",
      "3         3      Воронежская область  45.893637\n",
      "4         4       Краснодарский край  46.364142\n",
      "5         5    Ленинградская область  46.097356\n",
      "6         6       Московская область  46.210009\n",
      "7         7                   Москва  46.190442\n",
      "8         8    Нижегородская область  45.361333\n",
      "9         9    Нижегородская область  45.361333\n",
      "10       10    Нижегородская область  45.361333\n",
      "11       11          Приморский край  47.891425\n",
      "12       12  Республика Башкортостан        NaN\n",
      "13       13     Свердловская область  45.874717\n",
      "14       14    Удмуртская Республика        NaN\n",
      "15       15    Удмуртская Республика        NaN\n",
      "16       16      Челябинская область  45.795620\n",
      "17       17      Вологодская область  46.093420\n",
      "18       18       Краснодарский край  46.364142\n",
      "19       19        Красноярский край  46.697736\n",
      "    user_id              region_name    procent\n",
      "0         0                   Москва  46.190442\n",
      "1         1                   Москва  46.190442\n",
      "2         2          Республика Коми  47.207525\n",
      "3         3      Воронежская область  45.893637\n",
      "4         4       Краснодарский край  46.364142\n",
      "5         5    Ленинградская область  46.097356\n",
      "6         6       Московская область  46.210009\n",
      "7         7                   Москва  46.190442\n",
      "8         8    Нижегородская область  45.361333\n",
      "9         9    Нижегородская область  45.361333\n",
      "10       10    Нижегородская область  45.361333\n",
      "11       11          Приморский край  47.891425\n",
      "12       12  Республика Башкортостан  46.842882\n",
      "13       13     Свердловская область  45.874717\n",
      "14       14    Удмуртская Республика  46.031118\n",
      "15       15    Удмуртская Республика  46.031118\n",
      "16       16      Челябинская область  45.795620\n",
      "17       17      Вологодская область  46.093420\n",
      "18       18       Краснодарский край  46.364142\n",
      "19       19        Красноярский край  46.697736\n"
     ]
    }
   ],
   "source": [
    "def func(row):\n",
    "    if row.isna()['procent']:\n",
    "        reg = row['region_name'].replace('Республика', '')\n",
    "        reg = reg.replace(' ', '')[:5]\n",
    "        if reg == 'Саха(':\n",
    "            reg = 'Якут'\n",
    "        elif reg == 'Чечен':\n",
    "            reg = 'Чечня'\n",
    "        #print(reg_data[reg_data['region_name'].str.contains(reg, regex=False)]['procent'])\n",
    "        #return reg_data[reg_data['region_name'].str.contains(reg, regex=False)]['procent']\n",
    "        return reg_data[reg_data['region_name'].str.contains(reg, regex=False)]['procent'].values[0]\n",
    "    else:\n",
    "        return row['procent']\n",
    "\n",
    "\n",
    "print(data.head(20))\n",
    "data['procent'] = data[['region_name','procent']].apply(lambda row : func(row), axis=1)\n",
    "#print(data[['region_name','procent']].apply(lambda row : func(row), axis=1).head(20))\n",
    "print(data.head(20))"
   ],
   "metadata": {
    "collapsed": false,
    "pycharm": {
     "name": "#%%\n"
    }
   }
  },
  {
   "cell_type": "code",
   "execution_count": 6,
   "outputs": [
    {
     "data": {
      "text/plain": "          procent\n0       46.190442\n1       46.190442\n2       47.207525\n3       45.893637\n4       46.364142\n...           ...\n415312  46.063635\n415313  45.780897\n415314  46.551538\n415315  46.364142\n415316  46.031118\n\n[415317 rows x 1 columns]",
      "text/html": "<div>\n<style scoped>\n    .dataframe tbody tr th:only-of-type {\n        vertical-align: middle;\n    }\n\n    .dataframe tbody tr th {\n        vertical-align: top;\n    }\n\n    .dataframe thead th {\n        text-align: right;\n    }\n</style>\n<table border=\"1\" class=\"dataframe\">\n  <thead>\n    <tr style=\"text-align: right;\">\n      <th></th>\n      <th>procent</th>\n    </tr>\n  </thead>\n  <tbody>\n    <tr>\n      <th>0</th>\n      <td>46.190442</td>\n    </tr>\n    <tr>\n      <th>1</th>\n      <td>46.190442</td>\n    </tr>\n    <tr>\n      <th>2</th>\n      <td>47.207525</td>\n    </tr>\n    <tr>\n      <th>3</th>\n      <td>45.893637</td>\n    </tr>\n    <tr>\n      <th>4</th>\n      <td>46.364142</td>\n    </tr>\n    <tr>\n      <th>...</th>\n      <td>...</td>\n    </tr>\n    <tr>\n      <th>415312</th>\n      <td>46.063635</td>\n    </tr>\n    <tr>\n      <th>415313</th>\n      <td>45.780897</td>\n    </tr>\n    <tr>\n      <th>415314</th>\n      <td>46.551538</td>\n    </tr>\n    <tr>\n      <th>415315</th>\n      <td>46.364142</td>\n    </tr>\n    <tr>\n      <th>415316</th>\n      <td>46.031118</td>\n    </tr>\n  </tbody>\n</table>\n<p>415317 rows × 1 columns</p>\n</div>"
     },
     "execution_count": 6,
     "metadata": {},
     "output_type": "execute_result"
    }
   ],
   "source": [
    "data = data.sort_values('user_id')\n",
    "data[['procent']]"
   ],
   "metadata": {
    "collapsed": false,
    "pycharm": {
     "name": "#%%\n"
    }
   }
  },
  {
   "cell_type": "code",
   "execution_count": 7,
   "outputs": [],
   "source": [
    "data[['user_id','procent']].to_parquet('Dataset\\\\figma_plan\\\\region_procent.parquet', index=False)"
   ],
   "metadata": {
    "collapsed": false,
    "pycharm": {
     "name": "#%%\n"
    }
   }
  },
  {
   "cell_type": "code",
   "execution_count": 7,
   "outputs": [],
   "source": [],
   "metadata": {
    "collapsed": false,
    "pycharm": {
     "name": "#%%\n"
    }
   }
  },
  {
   "cell_type": "markdown",
   "source": [
    "### Добавляем колонку с кол-вом населения по регионам"
   ],
   "metadata": {
    "collapsed": false,
    "pycharm": {
     "name": "#%% md\n"
    }
   }
  },
  {
   "cell_type": "code",
   "execution_count": 25,
   "outputs": [
    {
     "name": "stdout",
     "output_type": "stream",
     "text": [
      "<class 'pandas.core.frame.DataFrame'>\n",
      "RangeIndex: 415317 entries, 0 to 415316\n",
      "Data columns (total 2 columns):\n",
      " #   Column       Non-Null Count   Dtype \n",
      "---  ------       --------------   ----- \n",
      " 0   user_id      415317 non-null  int32 \n",
      " 1   region_name  415317 non-null  object\n",
      "dtypes: int32(1), object(1)\n",
      "memory usage: 4.8+ MB\n"
     ]
    }
   ],
   "source": [
    "data = dd.read_parquet('Dataset\\\\figma_plan\\\\full_gender_data_txt.parquet', columns=['user_id', 'region_name']).compute()\n",
    "data.info(verbose=True, show_counts=True)"
   ],
   "metadata": {
    "collapsed": false,
    "pycharm": {
     "name": "#%%\n"
    }
   }
  },
  {
   "cell_type": "code",
   "execution_count": 26,
   "outputs": [
    {
     "data": {
      "text/plain": "array(['Москва', 'Республика Коми', 'Воронежская область',\n       'Краснодарский край', 'Ленинградская область',\n       'Московская область', 'Нижегородская область', 'Приморский край',\n       'Республика Башкортостан', 'Свердловская область',\n       'Удмуртская Республика', 'Челябинская область',\n       'Вологодская область', 'Красноярский край', 'Ростовская область',\n       'Санкт-Петербург', 'Тюменская область', 'Астраханская область',\n       'Новосибирская область', 'Пермский край', 'Тульская область',\n       'Кировская область', 'Курская область', 'Саратовская область',\n       'Курганская область', 'Республика Татарстан', 'Самарская область',\n       'Калининградская область', 'Мурманская область',\n       'Оренбургская область', 'Кемеровская область - Кузбасс',\n       'Республика Карелия', 'Республика Северная Осетия — Алания',\n       'Амурская область', 'Ямало-Ненецкий АО', 'Чувашская Республика',\n       'Алтайский край', 'Волгоградская область', 'Костромская область',\n       'Смоленская область', 'Ставропольский край', 'Тверская область',\n       'Хабаровский край', 'Владимирская область', 'Республика Мордовия',\n       'Псковская область', 'Липецкая область',\n       'Ханты-Мансийский АО — Югра', 'Томская область',\n       'Архангельская область', 'Омская область', 'Республика Адыгея',\n       'Белгородская область', 'Республика Саха (Якутия)',\n       'Пензенская область', 'Камчатский край', 'Ивановская область',\n       'Ульяновская область', 'Ярославская область',\n       'Новгородская область', 'Кабардино-Балкарская Республика',\n       'Республика Хакасия', 'Орловская область', 'Брянская область',\n       'Калужская область', 'Рязанская область', 'Республика Тыва',\n       'Республика Дагестан', 'Магаданская область', 'Тамбовская область',\n       'Карачаево-Черкесская Республика', 'Республика Марий Эл',\n       'Еврейская АО', 'Чеченская Республика', 'Сахалинская область',\n       'Республика Алтай', 'Ненецкий АО', 'Республика Ингушетия',\n       'Республика Калмыкия', 'Чукотский АО'], dtype=object)"
     },
     "execution_count": 26,
     "metadata": {},
     "output_type": "execute_result"
    }
   ],
   "source": [
    "data['region_name'].unique()"
   ],
   "metadata": {
    "collapsed": false,
    "pycharm": {
     "name": "#%%\n"
    }
   }
  },
  {
   "cell_type": "code",
   "execution_count": 34,
   "outputs": [
    {
     "data": {
      "text/plain": "                       region_name  count_people\n5             Российская Федеpация     145557576\n6    Центральный федеральный округ      39104400\n7             Белгородская область       1531917\n8                 Брянская область       1168771\n9             Владимирская область       1323659\n..                             ...           ...\n96                Амурская область        772525\n97             Магаданская область        137767\n98             Сахалинская область        484177\n99    Еврейская автономная область        153831\n100     Чукотский автономный округ         50040\n\n[96 rows x 2 columns]",
      "text/html": "<div>\n<style scoped>\n    .dataframe tbody tr th:only-of-type {\n        vertical-align: middle;\n    }\n\n    .dataframe tbody tr th {\n        vertical-align: top;\n    }\n\n    .dataframe thead th {\n        text-align: right;\n    }\n</style>\n<table border=\"1\" class=\"dataframe\">\n  <thead>\n    <tr style=\"text-align: right;\">\n      <th></th>\n      <th>region_name</th>\n      <th>count_people</th>\n    </tr>\n  </thead>\n  <tbody>\n    <tr>\n      <th>5</th>\n      <td>Российская Федеpация</td>\n      <td>145557576</td>\n    </tr>\n    <tr>\n      <th>6</th>\n      <td>Центральный федеральный округ</td>\n      <td>39104400</td>\n    </tr>\n    <tr>\n      <th>7</th>\n      <td>Белгородская область</td>\n      <td>1531917</td>\n    </tr>\n    <tr>\n      <th>8</th>\n      <td>Брянская область</td>\n      <td>1168771</td>\n    </tr>\n    <tr>\n      <th>9</th>\n      <td>Владимирская область</td>\n      <td>1323659</td>\n    </tr>\n    <tr>\n      <th>...</th>\n      <td>...</td>\n      <td>...</td>\n    </tr>\n    <tr>\n      <th>96</th>\n      <td>Амурская область</td>\n      <td>772525</td>\n    </tr>\n    <tr>\n      <th>97</th>\n      <td>Магаданская область</td>\n      <td>137767</td>\n    </tr>\n    <tr>\n      <th>98</th>\n      <td>Сахалинская область</td>\n      <td>484177</td>\n    </tr>\n    <tr>\n      <th>99</th>\n      <td>Еврейская автономная область</td>\n      <td>153831</td>\n    </tr>\n    <tr>\n      <th>100</th>\n      <td>Чукотский автономный округ</td>\n      <td>50040</td>\n    </tr>\n  </tbody>\n</table>\n<p>96 rows × 2 columns</p>\n</div>"
     },
     "execution_count": 34,
     "metadata": {},
     "output_type": "execute_result"
    }
   ],
   "source": [
    "chisl_nasel = load_workbook('Dataset\\\\Chisl_nasel_RF_2022.xlsx')\n",
    "sheet = chisl_nasel['Таб_1']\n",
    "data_nasel = pd.DataFrame(sheet.values)\n",
    "data_nasel = data_nasel.iloc[:, :2]\n",
    "data_nasel = data_nasel.dropna(axis=0)\n",
    "data_nasel = data_nasel.rename(columns={0:'region_name', 1: 'count_people'})\n",
    "data_nasel['count_people'] = data_nasel['count_people'].astype(str).astype(int)\n",
    "data_nasel"
   ],
   "metadata": {
    "collapsed": false,
    "pycharm": {
     "name": "#%%\n"
    }
   }
  },
  {
   "cell_type": "code",
   "execution_count": 35,
   "outputs": [
    {
     "name": "stdout",
     "output_type": "stream",
     "text": [
      "<class 'pandas.core.frame.DataFrame'>\n",
      "Int64Index: 96 entries, 5 to 100\n",
      "Data columns (total 2 columns):\n",
      " #   Column        Non-Null Count  Dtype \n",
      "---  ------        --------------  ----- \n",
      " 0   region_name   96 non-null     object\n",
      " 1   count_people  96 non-null     int32 \n",
      "dtypes: int32(1), object(1)\n",
      "memory usage: 1.9+ KB\n"
     ]
    }
   ],
   "source": [
    "data_nasel.info()"
   ],
   "metadata": {
    "collapsed": false,
    "pycharm": {
     "name": "#%%\n"
    }
   }
  },
  {
   "cell_type": "code",
   "execution_count": 59,
   "outputs": [
    {
     "name": "stdout",
     "output_type": "stream",
     "text": [
      "<class 'pandas.core.frame.DataFrame'>\n",
      "Int64Index: 415317 entries, 0 to 415316\n",
      "Data columns (total 3 columns):\n",
      " #   Column        Non-Null Count   Dtype  \n",
      "---  ------        --------------   -----  \n",
      " 0   user_id       415317 non-null  int32  \n",
      " 1   region_name   415317 non-null  object \n",
      " 2   count_people  311002 non-null  float64\n",
      "dtypes: float64(1), int32(1), object(1)\n",
      "memory usage: 11.1+ MB\n",
      "None\n",
      "['Москва' 'Красноярский край' 'Санкт-Петербург' 'Тюменская область'\n",
      " 'Кемеровская область - Кузбасс' 'Республика Северная Осетия — Алания'\n",
      " 'Ямало-Ненецкий АО' 'Ханты-Мансийский АО — Югра' 'Архангельская область'\n",
      " 'Республика Марий Эл' 'Еврейская АО' 'Ненецкий АО' 'Чукотский АО']\n",
      "<class 'pandas.core.frame.DataFrame'>\n",
      "Int64Index: 415317 entries, 0 to 415316\n",
      "Data columns (total 3 columns):\n",
      " #   Column        Non-Null Count   Dtype \n",
      "---  ------        --------------   ----- \n",
      " 0   user_id       415317 non-null  int32 \n",
      " 1   region_name   415317 non-null  object\n",
      " 2   count_people  415317 non-null  int32 \n",
      "dtypes: int32(2), object(1)\n",
      "memory usage: 9.5+ MB\n",
      "None\n",
      "CPU times: total: 32.3 s\n",
      "Wall time: 40.8 s\n"
     ]
    }
   ],
   "source": [
    "%%time\n",
    "data_buf = data.merge(data_nasel, on='region_name', how='left')\n",
    "print(data_buf.info())\n",
    "print(data_buf[data_buf['count_people'].isna()]['region_name'].unique())\n",
    "\n",
    "\n",
    "def func(row):\n",
    "    if row.isna()['count_people']:\n",
    "        reg = row['region_name']\n",
    "        if reg == 'Москва':\n",
    "            reg = 'г. Москва'\n",
    "\n",
    "        elif reg == 'Красноярский край':\n",
    "            reg = 'Красноярский край'\n",
    "\n",
    "        elif reg == 'Кемеровская область - Кузбасс':\n",
    "            reg = 'Кемеровская область'\n",
    "\n",
    "        elif reg == 'Республика Северная Осетия — Алания':\n",
    "            reg = 'Республика Северная Осетия-Алания'\n",
    "\n",
    "        elif reg == 'Ханты-Мансийский АО — Югра':\n",
    "            reg = 'Ханты-Мансийский автономный округ-Югра'\n",
    "\n",
    "        elif reg == 'Ямало-Ненецкий АО':\n",
    "            reg = 'Ямало-Ненецкий автономный округ'\n",
    "\n",
    "        elif reg == 'Еврейская АО':\n",
    "            reg = 'Еврейская автономная область'\n",
    "\n",
    "        elif reg == 'Ненецкий АО':\n",
    "            reg = 'Ненецкий автономный округ'\n",
    "\n",
    "        elif reg == 'Чукотский АО':\n",
    "            reg = 'Чукотский автономный округ'\n",
    "\n",
    "        try:\n",
    "            return data_nasel[data_nasel['region_name'].str.contains(reg, regex=False)]['count_people'].values[0]\n",
    "        except:\n",
    "            print(reg)\n",
    "            return None\n",
    "    else:\n",
    "        return row['count_people']\n",
    "\n",
    "\n",
    "data_buf['count_people'] = data_buf[['region_name','count_people']].apply(lambda row : func(row), axis=1)\n",
    "data_buf['count_people'] = data_buf['count_people'].astype(int)\n",
    "print(data_buf.info())"
   ],
   "metadata": {
    "collapsed": false,
    "pycharm": {
     "name": "#%%\n"
    }
   }
  },
  {
   "cell_type": "code",
   "execution_count": 60,
   "outputs": [
    {
     "name": "stdout",
     "output_type": "stream",
     "text": [
      "0    12635466\n",
      "1    12635466\n",
      "2      803477\n",
      "3     2287678\n",
      "4     5687378\n",
      "5     1911586\n",
      "6     7768878\n",
      "7    12635466\n",
      "8     3144254\n",
      "9     3144254\n",
      "Name: count_people, dtype: int32\n"
     ]
    }
   ],
   "source": [
    "print(data_buf['count_people'].head(10))"
   ],
   "metadata": {
    "collapsed": false,
    "pycharm": {
     "name": "#%%\n"
    }
   }
  },
  {
   "cell_type": "code",
   "execution_count": 61,
   "outputs": [
    {
     "name": "stdout",
     "output_type": "stream",
     "text": [
      "0    1.000000\n",
      "1    1.000000\n",
      "2    0.060277\n",
      "3    0.178155\n",
      "4    0.448167\n",
      "5    0.148285\n",
      "6    0.613485\n",
      "7    1.000000\n",
      "8    0.246186\n",
      "9    0.246186\n",
      "Name: count_people, dtype: float32\n"
     ]
    }
   ],
   "source": [
    "scal = MinMaxScaler()\n",
    "data_buf['count_people'] = scal.fit_transform(data_buf[['count_people']])\n",
    "data_buf['count_people'] = data_buf['count_people'].astype('float32')\n",
    "print(data_buf['count_people'].head(10))"
   ],
   "metadata": {
    "collapsed": false,
    "pycharm": {
     "name": "#%%\n"
    }
   }
  },
  {
   "cell_type": "code",
   "execution_count": 62,
   "outputs": [],
   "source": [
    "data_buf.to_csv('Dataset\\\\count_people_for_region.csv', index=False)"
   ],
   "metadata": {
    "collapsed": false,
    "pycharm": {
     "name": "#%%\n"
    }
   }
  },
  {
   "cell_type": "code",
   "execution_count": null,
   "outputs": [],
   "source": [],
   "metadata": {
    "collapsed": false,
    "pycharm": {
     "name": "#%%\n"
    }
   }
  }
 ],
 "metadata": {
  "kernelspec": {
   "display_name": "Python 3",
   "language": "python",
   "name": "python3"
  },
  "language_info": {
   "codemirror_mode": {
    "name": "ipython",
    "version": 2
   },
   "file_extension": ".py",
   "mimetype": "text/x-python",
   "name": "python",
   "nbconvert_exporter": "python",
   "pygments_lexer": "ipython2",
   "version": "2.7.6"
  }
 },
 "nbformat": 4,
 "nbformat_minor": 0
}